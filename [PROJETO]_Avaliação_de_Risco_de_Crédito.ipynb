{
  "nbformat": 4,
  "nbformat_minor": 0,
  "metadata": {
    "colab": {
      "name": "[PROJETO] Avaliação de Risco de Crédito.ipynb",
      "provenance": [],
      "collapsed_sections": [],
      "include_colab_link": true
    },
    "kernelspec": {
      "name": "python3",
      "display_name": "Python 3"
    }
  },
  "cells": [
    {
      "cell_type": "markdown",
      "metadata": {
        "id": "view-in-github",
        "colab_type": "text"
      },
      "source": [
        "<a href=\"https://colab.research.google.com/github/lucas-prado/data_science_portfolio/blob/main/%5BPROJETO%5D_Avalia%C3%A7%C3%A3o_de_Risco_de_Cr%C3%A9dito.ipynb\" target=\"_parent\"><img src=\"https://colab.research.google.com/assets/colab-badge.svg\" alt=\"Open In Colab\"/></a>"
      ]
    },
    {
      "cell_type": "markdown",
      "metadata": {
        "id": "ZNvmL_lMsAqU"
      },
      "source": [
        "#Avaliação de Risco de Crédito\n",
        "\n",
        "\n",
        "Uma das áreas que causa mais problemas para bancos, financiadoras e empresários é a taxa de inadimplência por parte da sua carteira de clientes.\n",
        "\n",
        "Avaliar se uma pessoa irá deixar de cumprir com suas obrigações financeiras é de extrema importância, e pode causar um grande impacto no balanço da Instituição. Cada vez mais, soluções vêm sendo desenvolvidas e aprimoradas visando minimizar o risco de *default*. \n",
        "\n",
        "*Default* é o termo utilizado para o não cumprimento das obrigações e/ou condições de um empréstimo (como financiamentos ou dívidas de cartão de crédito). Normalmente, o principal motivo para o descumprimento das condições de pagamento é a incapacidade financeira do cliente.\n",
        "\n",
        "<p align=center>\n",
        "  <img src=\"https://images.unsplash.com/photo-1556742502-ec7c0e9f34b1?ixid=MnwxMjA3fDB8MHxwaG90by1wYWdlfHx8fGVufDB8fHx8&ixlib=rb-1.2.1&auto=format&fit=crop&w=687&q=80\" width=\"40%\">\n",
        "</p>\n",
        " \n",
        "Grandes bancos e Fintechs têm apostado cada vez mais em modelos de *Machine Learning* para previnir a inadimplência de alguns clientes.\n",
        "\n",
        "Dentre as principais instituições financeira, o [Nubank](https://nubank.com.br/sobre-nos) é uma das que mais tem se destacado no uso de Inteligência Artificial e times de *Data Science*.\n",
        "\n",
        "O conjunto de dados a ser utilizado neste Projeto de *Data Science* parte de uma competição realizada pela Startup [Nubank](https://nubank.com.br/sobre-nos) a fim de revelar talentos e potenciais contratações pela Fintech.\n",
        "\n",
        "## Contextualização do Problema\n",
        "\n",
        "Neste problema, o objetivo é prever qual a probabilidade de um cliente da Startup Nubank não coumprir com suas obrigações financeiras e deixar de pagar a sua fatura do Cartão de Crédito.\n",
        "\n",
        "<p align=center>\n",
        "<img src=\"http://sigmoidal.ai/wp-content/uploads/2019/10/Nubank_logo.png\" width=\"90px\"></p>\n",
        "  \n",
        "Vale ressaltar que essa avaliação deve ser realizada no momento em que o cliente solicita o cartão (normalmente no primeiro contato com a instituição).\n",
        "\n",
        "\n",
        "\n",
        "> OBJETIVO: Criar um modelo que forneça a probabilidade de um cliente virar inadimplente.\n",
        "\n",
        "\n",
        "Espera-se que um modelo seja capaz de minimizar as perdas financeiras do Nubank, porém minimizando também os falsos positivos.\n",
        "\n"
      ]
    },
    {
      "cell_type": "markdown",
      "metadata": {
        "id": "5PCK4RxLpqd8"
      },
      "source": [
        "## **IMPORTAÇÃO DOS DADOS**\n",
        "\n",
        "Os dados que serão utilizados nesta análise estão disponíveis para download por meio [deste link](http://dl.dropboxusercontent.com/s/xn2a4kzf0zer0xu/acquisition_train.csv?dl=0). Consiste basicamente em um arquivo `csv` contendo 45.000 entradas e 43 colunas."
      ]
    },
    {
      "cell_type": "code",
      "source": [
        "#importando as bibliotecas\n",
        "\n",
        "import pandas as pd\n",
        "import numpy as np\n",
        "import matplotlib.pyplot as plt\n",
        "import seaborn as sns\n",
        "\n",
        "from imblearn.over_sampling import SMOTE\n",
        "from sklearn.preprocessing import StandardScaler\n",
        "from sklearn.model_selection import train_test_split\n",
        "from sklearn.metrics import roc_auc_score, accuracy_score, f1_score, plot_confusion_matrix, classification_report\n",
        "from sklearn.preprocessing import StandardScaler\n",
        "from sklearn.pipeline import make_pipeline\n",
        "from sklearn.model_selection import train_test_split\n",
        "from sklearn.model_selection import cross_val_score\n",
        "from sklearn.model_selection import StratifiedKFold\n",
        "from sklearn.model_selection import GridSearchCV\n",
        "from sklearn.tree import DecisionTreeClassifier\n",
        "from sklearn.linear_model import LogisticRegression\n",
        "from xgboost import XGBClassifier\n",
        "from sklearn.ensemble import RandomForestClassifier\n",
        "\n",
        "import warnings\n",
        "warnings.filterwarnings('ignore')\n",
        "\n",
        "pd.options.display.float_format = '{:,.2f}'.format\n"
      ],
      "metadata": {
        "id": "KSucF8cV1uw0"
      },
      "execution_count": null,
      "outputs": []
    },
    {
      "cell_type": "code",
      "metadata": {
        "id": "PqMaG41qo1Y4"
      },
      "source": [
        "df = pd.read_csv(\"http://dl.dropboxusercontent.com/s/xn2a4kzf0zer0xu/acquisition_train.csv?dl=0\")"
      ],
      "execution_count": null,
      "outputs": []
    },
    {
      "cell_type": "code",
      "source": [
        "df.head()"
      ],
      "metadata": {
        "colab": {
          "base_uri": "https://localhost:8080/",
          "height": 698
        },
        "id": "tZbYHTIs11ZE",
        "outputId": "d543bc21-3202-409d-ef7a-e05ce58ce2a2"
      },
      "execution_count": null,
      "outputs": [
        {
          "output_type": "execute_result",
          "data": {
            "text/plain": [
              "                                    ids target_default  \\\n",
              "0  343b7e7b-2cf8-e508-b8fd-0a0285af30aa          False   \n",
              "1  bc2c7502-bbad-0f8c-39c3-94e881967124          False   \n",
              "2  669630dd-2e6a-0396-84bf-455e5009c922           True   \n",
              "3  d235609e-b6cb-0ccc-a329-d4f12e7ebdc1          False   \n",
              "4  9e0eb880-e8f4-3faa-67d8-f5cdd2b3932b          False   \n",
              "\n",
              "                    score_1                   score_2  score_3  score_4  \\\n",
              "0  1Rk8w4Ucd5yR3KcqZzLdow==  IOVu8au3ISbo6+zmfnYwMg==   350.00   101.80   \n",
              "1  DGCQep2AE5QRkNCshIAlFQ==  SaamrHMo23l/3TwXOWgVzw==   370.00    97.06   \n",
              "2  DGCQep2AE5QRkNCshIAlFQ==  Fv28Bz0YRTVAT5kl1bAV6g==   360.00   100.03   \n",
              "3  1Rk8w4Ucd5yR3KcqZzLdow==  dCm9hFKfdRm7ej3jW+gyxw==   510.00   101.60   \n",
              "4  8k8UDR4Yx0qasAjkGrUZLw==  +CxEO4w7jv3QPI/BQbyqAA==   500.00    98.47   \n",
              "\n",
              "   score_5  score_6  risk_rate  last_amount_borrowed  ...  \\\n",
              "0     0.26   108.43       0.40             25,033.92  ...   \n",
              "1     0.94    92.00       0.24                   NaN  ...   \n",
              "2     0.35   112.89       0.29              7,207.92  ...   \n",
              "3     0.99    94.90       0.32                   NaN  ...   \n",
              "4     0.53   118.13       0.18                   NaN  ...   \n",
              "\n",
              "   external_data_provider_fraud_score  \\\n",
              "0                                 645   \n",
              "1                                 243   \n",
              "2                                  65   \n",
              "3                                 815   \n",
              "4                                 320   \n",
              "\n",
              "                                      lat_lon marketing_channel  \\\n",
              "0    (-29.151545708122246, -51.1386461804385)      Invite-email   \n",
              "1   (-19.687710705798963, -47.94151536525154)  Radio-commercial   \n",
              "2  (-28.748023890412284, -51.867279334353995)      Waiting-list   \n",
              "3   (-17.520650158450454, -39.75801139933186)      Waiting-list   \n",
              "4   (-16.574259446978008, -39.90990074785962)      Invite-email   \n",
              "\n",
              "   profile_phone_number reported_income shipping_state shipping_zip_code  \\\n",
              "0           514-9840782       57,849.00          BR-MT             17528   \n",
              "1           251-3659293        4,902.00          BR-RS             40933   \n",
              "2           230-6097993      163,679.00          BR-RR             50985   \n",
              "3           261-3543751        1,086.00          BR-RN             37825   \n",
              "4           102-3660162      198,618.00          BR-MT             52827   \n",
              "\n",
              "                                profile_tags  \\\n",
              "0                    {'tags': ['n19', 'n8']}   \n",
              "1              {'tags': ['n6', 'n7', 'nim']}   \n",
              "2       {'tags': ['n0', 'n17', 'nim', 'da']}   \n",
              "3                           {'tags': ['n4']}   \n",
              "4  {'tags': ['pro+aty', 'n19', 'da', 'b19']}   \n",
              "\n",
              "                                          user_agent target_fraud  \n",
              "0  Mozilla/5.0 (Linux; Android 6.0.1; SGP771 Buil...          NaN  \n",
              "1  Mozilla/5.0 (Linux; Android 5.0.2; SAMSUNG SM-...          NaN  \n",
              "2  Mozilla/5.0 (Linux; Android 6.0.1; SGP771 Buil...          NaN  \n",
              "3  Mozilla/5.0 (Linux; Android 6.0; HTC One X10 B...          NaN  \n",
              "4  Mozilla/5.0 (Linux; Android 7.0; Pixel C Build...          NaN  \n",
              "\n",
              "[5 rows x 43 columns]"
            ],
            "text/html": [
              "\n",
              "  <div id=\"df-2094e1be-f0e8-4b50-aae8-4754c03c8724\">\n",
              "    <div class=\"colab-df-container\">\n",
              "      <div>\n",
              "<style scoped>\n",
              "    .dataframe tbody tr th:only-of-type {\n",
              "        vertical-align: middle;\n",
              "    }\n",
              "\n",
              "    .dataframe tbody tr th {\n",
              "        vertical-align: top;\n",
              "    }\n",
              "\n",
              "    .dataframe thead th {\n",
              "        text-align: right;\n",
              "    }\n",
              "</style>\n",
              "<table border=\"1\" class=\"dataframe\">\n",
              "  <thead>\n",
              "    <tr style=\"text-align: right;\">\n",
              "      <th></th>\n",
              "      <th>ids</th>\n",
              "      <th>target_default</th>\n",
              "      <th>score_1</th>\n",
              "      <th>score_2</th>\n",
              "      <th>score_3</th>\n",
              "      <th>score_4</th>\n",
              "      <th>score_5</th>\n",
              "      <th>score_6</th>\n",
              "      <th>risk_rate</th>\n",
              "      <th>last_amount_borrowed</th>\n",
              "      <th>...</th>\n",
              "      <th>external_data_provider_fraud_score</th>\n",
              "      <th>lat_lon</th>\n",
              "      <th>marketing_channel</th>\n",
              "      <th>profile_phone_number</th>\n",
              "      <th>reported_income</th>\n",
              "      <th>shipping_state</th>\n",
              "      <th>shipping_zip_code</th>\n",
              "      <th>profile_tags</th>\n",
              "      <th>user_agent</th>\n",
              "      <th>target_fraud</th>\n",
              "    </tr>\n",
              "  </thead>\n",
              "  <tbody>\n",
              "    <tr>\n",
              "      <th>0</th>\n",
              "      <td>343b7e7b-2cf8-e508-b8fd-0a0285af30aa</td>\n",
              "      <td>False</td>\n",
              "      <td>1Rk8w4Ucd5yR3KcqZzLdow==</td>\n",
              "      <td>IOVu8au3ISbo6+zmfnYwMg==</td>\n",
              "      <td>350.00</td>\n",
              "      <td>101.80</td>\n",
              "      <td>0.26</td>\n",
              "      <td>108.43</td>\n",
              "      <td>0.40</td>\n",
              "      <td>25,033.92</td>\n",
              "      <td>...</td>\n",
              "      <td>645</td>\n",
              "      <td>(-29.151545708122246, -51.1386461804385)</td>\n",
              "      <td>Invite-email</td>\n",
              "      <td>514-9840782</td>\n",
              "      <td>57,849.00</td>\n",
              "      <td>BR-MT</td>\n",
              "      <td>17528</td>\n",
              "      <td>{'tags': ['n19', 'n8']}</td>\n",
              "      <td>Mozilla/5.0 (Linux; Android 6.0.1; SGP771 Buil...</td>\n",
              "      <td>NaN</td>\n",
              "    </tr>\n",
              "    <tr>\n",
              "      <th>1</th>\n",
              "      <td>bc2c7502-bbad-0f8c-39c3-94e881967124</td>\n",
              "      <td>False</td>\n",
              "      <td>DGCQep2AE5QRkNCshIAlFQ==</td>\n",
              "      <td>SaamrHMo23l/3TwXOWgVzw==</td>\n",
              "      <td>370.00</td>\n",
              "      <td>97.06</td>\n",
              "      <td>0.94</td>\n",
              "      <td>92.00</td>\n",
              "      <td>0.24</td>\n",
              "      <td>NaN</td>\n",
              "      <td>...</td>\n",
              "      <td>243</td>\n",
              "      <td>(-19.687710705798963, -47.94151536525154)</td>\n",
              "      <td>Radio-commercial</td>\n",
              "      <td>251-3659293</td>\n",
              "      <td>4,902.00</td>\n",
              "      <td>BR-RS</td>\n",
              "      <td>40933</td>\n",
              "      <td>{'tags': ['n6', 'n7', 'nim']}</td>\n",
              "      <td>Mozilla/5.0 (Linux; Android 5.0.2; SAMSUNG SM-...</td>\n",
              "      <td>NaN</td>\n",
              "    </tr>\n",
              "    <tr>\n",
              "      <th>2</th>\n",
              "      <td>669630dd-2e6a-0396-84bf-455e5009c922</td>\n",
              "      <td>True</td>\n",
              "      <td>DGCQep2AE5QRkNCshIAlFQ==</td>\n",
              "      <td>Fv28Bz0YRTVAT5kl1bAV6g==</td>\n",
              "      <td>360.00</td>\n",
              "      <td>100.03</td>\n",
              "      <td>0.35</td>\n",
              "      <td>112.89</td>\n",
              "      <td>0.29</td>\n",
              "      <td>7,207.92</td>\n",
              "      <td>...</td>\n",
              "      <td>65</td>\n",
              "      <td>(-28.748023890412284, -51.867279334353995)</td>\n",
              "      <td>Waiting-list</td>\n",
              "      <td>230-6097993</td>\n",
              "      <td>163,679.00</td>\n",
              "      <td>BR-RR</td>\n",
              "      <td>50985</td>\n",
              "      <td>{'tags': ['n0', 'n17', 'nim', 'da']}</td>\n",
              "      <td>Mozilla/5.0 (Linux; Android 6.0.1; SGP771 Buil...</td>\n",
              "      <td>NaN</td>\n",
              "    </tr>\n",
              "    <tr>\n",
              "      <th>3</th>\n",
              "      <td>d235609e-b6cb-0ccc-a329-d4f12e7ebdc1</td>\n",
              "      <td>False</td>\n",
              "      <td>1Rk8w4Ucd5yR3KcqZzLdow==</td>\n",
              "      <td>dCm9hFKfdRm7ej3jW+gyxw==</td>\n",
              "      <td>510.00</td>\n",
              "      <td>101.60</td>\n",
              "      <td>0.99</td>\n",
              "      <td>94.90</td>\n",
              "      <td>0.32</td>\n",
              "      <td>NaN</td>\n",
              "      <td>...</td>\n",
              "      <td>815</td>\n",
              "      <td>(-17.520650158450454, -39.75801139933186)</td>\n",
              "      <td>Waiting-list</td>\n",
              "      <td>261-3543751</td>\n",
              "      <td>1,086.00</td>\n",
              "      <td>BR-RN</td>\n",
              "      <td>37825</td>\n",
              "      <td>{'tags': ['n4']}</td>\n",
              "      <td>Mozilla/5.0 (Linux; Android 6.0; HTC One X10 B...</td>\n",
              "      <td>NaN</td>\n",
              "    </tr>\n",
              "    <tr>\n",
              "      <th>4</th>\n",
              "      <td>9e0eb880-e8f4-3faa-67d8-f5cdd2b3932b</td>\n",
              "      <td>False</td>\n",
              "      <td>8k8UDR4Yx0qasAjkGrUZLw==</td>\n",
              "      <td>+CxEO4w7jv3QPI/BQbyqAA==</td>\n",
              "      <td>500.00</td>\n",
              "      <td>98.47</td>\n",
              "      <td>0.53</td>\n",
              "      <td>118.13</td>\n",
              "      <td>0.18</td>\n",
              "      <td>NaN</td>\n",
              "      <td>...</td>\n",
              "      <td>320</td>\n",
              "      <td>(-16.574259446978008, -39.90990074785962)</td>\n",
              "      <td>Invite-email</td>\n",
              "      <td>102-3660162</td>\n",
              "      <td>198,618.00</td>\n",
              "      <td>BR-MT</td>\n",
              "      <td>52827</td>\n",
              "      <td>{'tags': ['pro+aty', 'n19', 'da', 'b19']}</td>\n",
              "      <td>Mozilla/5.0 (Linux; Android 7.0; Pixel C Build...</td>\n",
              "      <td>NaN</td>\n",
              "    </tr>\n",
              "  </tbody>\n",
              "</table>\n",
              "<p>5 rows × 43 columns</p>\n",
              "</div>\n",
              "      <button class=\"colab-df-convert\" onclick=\"convertToInteractive('df-2094e1be-f0e8-4b50-aae8-4754c03c8724')\"\n",
              "              title=\"Convert this dataframe to an interactive table.\"\n",
              "              style=\"display:none;\">\n",
              "        \n",
              "  <svg xmlns=\"http://www.w3.org/2000/svg\" height=\"24px\"viewBox=\"0 0 24 24\"\n",
              "       width=\"24px\">\n",
              "    <path d=\"M0 0h24v24H0V0z\" fill=\"none\"/>\n",
              "    <path d=\"M18.56 5.44l.94 2.06.94-2.06 2.06-.94-2.06-.94-.94-2.06-.94 2.06-2.06.94zm-11 1L8.5 8.5l.94-2.06 2.06-.94-2.06-.94L8.5 2.5l-.94 2.06-2.06.94zm10 10l.94 2.06.94-2.06 2.06-.94-2.06-.94-.94-2.06-.94 2.06-2.06.94z\"/><path d=\"M17.41 7.96l-1.37-1.37c-.4-.4-.92-.59-1.43-.59-.52 0-1.04.2-1.43.59L10.3 9.45l-7.72 7.72c-.78.78-.78 2.05 0 2.83L4 21.41c.39.39.9.59 1.41.59.51 0 1.02-.2 1.41-.59l7.78-7.78 2.81-2.81c.8-.78.8-2.07 0-2.86zM5.41 20L4 18.59l7.72-7.72 1.47 1.35L5.41 20z\"/>\n",
              "  </svg>\n",
              "      </button>\n",
              "      \n",
              "  <style>\n",
              "    .colab-df-container {\n",
              "      display:flex;\n",
              "      flex-wrap:wrap;\n",
              "      gap: 12px;\n",
              "    }\n",
              "\n",
              "    .colab-df-convert {\n",
              "      background-color: #E8F0FE;\n",
              "      border: none;\n",
              "      border-radius: 50%;\n",
              "      cursor: pointer;\n",
              "      display: none;\n",
              "      fill: #1967D2;\n",
              "      height: 32px;\n",
              "      padding: 0 0 0 0;\n",
              "      width: 32px;\n",
              "    }\n",
              "\n",
              "    .colab-df-convert:hover {\n",
              "      background-color: #E2EBFA;\n",
              "      box-shadow: 0px 1px 2px rgba(60, 64, 67, 0.3), 0px 1px 3px 1px rgba(60, 64, 67, 0.15);\n",
              "      fill: #174EA6;\n",
              "    }\n",
              "\n",
              "    [theme=dark] .colab-df-convert {\n",
              "      background-color: #3B4455;\n",
              "      fill: #D2E3FC;\n",
              "    }\n",
              "\n",
              "    [theme=dark] .colab-df-convert:hover {\n",
              "      background-color: #434B5C;\n",
              "      box-shadow: 0px 1px 3px 1px rgba(0, 0, 0, 0.15);\n",
              "      filter: drop-shadow(0px 1px 2px rgba(0, 0, 0, 0.3));\n",
              "      fill: #FFFFFF;\n",
              "    }\n",
              "  </style>\n",
              "\n",
              "      <script>\n",
              "        const buttonEl =\n",
              "          document.querySelector('#df-2094e1be-f0e8-4b50-aae8-4754c03c8724 button.colab-df-convert');\n",
              "        buttonEl.style.display =\n",
              "          google.colab.kernel.accessAllowed ? 'block' : 'none';\n",
              "\n",
              "        async function convertToInteractive(key) {\n",
              "          const element = document.querySelector('#df-2094e1be-f0e8-4b50-aae8-4754c03c8724');\n",
              "          const dataTable =\n",
              "            await google.colab.kernel.invokeFunction('convertToInteractive',\n",
              "                                                     [key], {});\n",
              "          if (!dataTable) return;\n",
              "\n",
              "          const docLinkHtml = 'Like what you see? Visit the ' +\n",
              "            '<a target=\"_blank\" href=https://colab.research.google.com/notebooks/data_table.ipynb>data table notebook</a>'\n",
              "            + ' to learn more about interactive tables.';\n",
              "          element.innerHTML = '';\n",
              "          dataTable['output_type'] = 'display_data';\n",
              "          await google.colab.output.renderOutput(dataTable, element);\n",
              "          const docLink = document.createElement('div');\n",
              "          docLink.innerHTML = docLinkHtml;\n",
              "          element.appendChild(docLink);\n",
              "        }\n",
              "      </script>\n",
              "    </div>\n",
              "  </div>\n",
              "  "
            ]
          },
          "metadata": {},
          "execution_count": 3
        }
      ]
    },
    {
      "cell_type": "code",
      "source": [
        "#Dimensões do DataFrame\n",
        "\n",
        "df.shape"
      ],
      "metadata": {
        "colab": {
          "base_uri": "https://localhost:8080/"
        },
        "id": "dUdc3p2H2IRI",
        "outputId": "58bf65ef-b0cf-4758-e7f7-72e3df95a84e"
      },
      "execution_count": null,
      "outputs": [
        {
          "output_type": "execute_result",
          "data": {
            "text/plain": [
              "(45000, 43)"
            ]
          },
          "metadata": {},
          "execution_count": 4
        }
      ]
    },
    {
      "cell_type": "code",
      "source": [
        "#Verificando o nome das colunas\n",
        "\n",
        "df.columns"
      ],
      "metadata": {
        "colab": {
          "base_uri": "https://localhost:8080/"
        },
        "id": "ol7v0fS013V5",
        "outputId": "7fbfb0c2-9b8d-400e-acc1-2c9becb585c2"
      },
      "execution_count": null,
      "outputs": [
        {
          "output_type": "execute_result",
          "data": {
            "text/plain": [
              "Index(['ids', 'target_default', 'score_1', 'score_2', 'score_3', 'score_4',\n",
              "       'score_5', 'score_6', 'risk_rate', 'last_amount_borrowed',\n",
              "       'last_borrowed_in_months', 'credit_limit', 'reason', 'income',\n",
              "       'facebook_profile', 'state', 'zip', 'channel', 'job_name', 'real_state',\n",
              "       'ok_since', 'n_bankruptcies', 'n_defaulted_loans', 'n_accounts',\n",
              "       'n_issues', 'application_time_applied', 'application_time_in_funnel',\n",
              "       'email', 'external_data_provider_credit_checks_last_2_year',\n",
              "       'external_data_provider_credit_checks_last_month',\n",
              "       'external_data_provider_credit_checks_last_year',\n",
              "       'external_data_provider_email_seen_before',\n",
              "       'external_data_provider_first_name',\n",
              "       'external_data_provider_fraud_score', 'lat_lon', 'marketing_channel',\n",
              "       'profile_phone_number', 'reported_income', 'shipping_state',\n",
              "       'shipping_zip_code', 'profile_tags', 'user_agent', 'target_fraud'],\n",
              "      dtype='object')"
            ]
          },
          "metadata": {},
          "execution_count": 5
        }
      ]
    },
    {
      "cell_type": "markdown",
      "source": [
        "## **TRATAMENTO DOS DADOS**\n",
        "\n",
        "**LIMPEZA DOS DADOS:**\n",
        "\n",
        "* Limpar colunas com variáveis sem informações relevantes.\n",
        "* Limpar colunas que possuam apenas um valor.\n",
        "* Limpar colunas que possuam mais de 50% de valores nulos (excessão para last_amount_borrowed, por ser uma informação relevante para default).\n",
        "* Limpar as linhas de variáveis nulas da variável target (target_default).\n",
        "\n",
        "**TRATAMENTO DOS VALORES:**\n",
        "\n",
        "* Tratar os valores incorretos da coluna \"e-mail\"\n",
        "* Retirar \"BR-\" da coluna \"shipping_state.\"\n",
        "* Substituir a variável target (Target Default) por 0 e 1.\n",
        "\n"
      ],
      "metadata": {
        "id": "swIjiTW3FNsL"
      }
    },
    {
      "cell_type": "code",
      "source": [
        "#Analisando valores de cada coluna.\n",
        "\n",
        "for c in df.columns:\n",
        "  print(f\"NOME DA COLUNA: {c} \\n\")\n",
        "  print(f\"NÚMERO DE VALORES ÚNICOS: {df[c].nunique()} \\n\")\n",
        "  print(f\"{df[c].unique()[:10]} \\n\")"
      ],
      "metadata": {
        "colab": {
          "base_uri": "https://localhost:8080/"
        },
        "id": "Zlz4xCMuC0LP",
        "outputId": "e5a809c1-3895-4342-b1f1-46004a2a33a3"
      },
      "execution_count": null,
      "outputs": [
        {
          "output_type": "stream",
          "name": "stdout",
          "text": [
            "NOME DA COLUNA: ids \n",
            "\n",
            "NÚMERO DE VALORES ÚNICOS: 45000 \n",
            "\n",
            "['343b7e7b-2cf8-e508-b8fd-0a0285af30aa'\n",
            " 'bc2c7502-bbad-0f8c-39c3-94e881967124'\n",
            " '669630dd-2e6a-0396-84bf-455e5009c922'\n",
            " 'd235609e-b6cb-0ccc-a329-d4f12e7ebdc1'\n",
            " '9e0eb880-e8f4-3faa-67d8-f5cdd2b3932b'\n",
            " '538c1908-bd80-b834-c3f0-238b4f536d3f'\n",
            " 'cd23a767-efe7-46fe-18c7-59b93f2e6e72'\n",
            " '7552f149-5c7b-9e10-24a0-55978ee4ff5b'\n",
            " '2bf379e3-51e3-2f7c-168f-3d494e2d2b5b'\n",
            " '4146cbf8-1ec5-f381-e5c4-1ffad3a3e37e'] \n",
            "\n",
            "NOME DA COLUNA: target_default \n",
            "\n",
            "NÚMERO DE VALORES ÚNICOS: 2 \n",
            "\n",
            "[False True nan] \n",
            "\n",
            "NOME DA COLUNA: score_1 \n",
            "\n",
            "NÚMERO DE VALORES ÚNICOS: 7 \n",
            "\n",
            "['1Rk8w4Ucd5yR3KcqZzLdow==' 'DGCQep2AE5QRkNCshIAlFQ=='\n",
            " '8k8UDR4Yx0qasAjkGrUZLw==' '4DLlLW62jReXaqbPaHp1vQ=='\n",
            " 'e4NYDor1NOw6XKGE60AWFw==' 'smzX0nxh5QlePvtVf6EAeg=='\n",
            " 'fyrlulOiZ+5hoFqLa6UbDQ==' nan] \n",
            "\n",
            "NOME DA COLUNA: score_2 \n",
            "\n",
            "NÚMERO DE VALORES ÚNICOS: 35 \n",
            "\n",
            "['IOVu8au3ISbo6+zmfnYwMg==' 'SaamrHMo23l/3TwXOWgVzw=='\n",
            " 'Fv28Bz0YRTVAT5kl1bAV6g==' 'dCm9hFKfdRm7ej3jW+gyxw=='\n",
            " '+CxEO4w7jv3QPI/BQbyqAA==' 'tQUTfUyeuGkhRotd+6WjVg=='\n",
            " 'cdpgyOyZS04uXerMNu7uCw==' '/tdlnWjXoZ3OjdtBXzdOJQ=='\n",
            " 'YLGMUI9hObSh6wD/xfanGg==' 'O4i7FxcROACMVTCgI0WXuA=='] \n",
            "\n",
            "NOME DA COLUNA: score_3 \n",
            "\n",
            "NÚMERO DE VALORES ÚNICOS: 88 \n",
            "\n",
            "[350. 370. 360. 510. 500. 300. 250. 330. 390. 340.] \n",
            "\n",
            "NOME DA COLUNA: score_4 \n",
            "\n",
            "NÚMERO DE VALORES ÚNICOS: 45000 \n",
            "\n",
            "[101.80083171  97.06261531 100.02707252 101.599485    98.47428933\n",
            " 101.83704     98.95891359 100.34256434  95.20109808  97.60865176] \n",
            "\n",
            "NOME DA COLUNA: score_5 \n",
            "\n",
            "NÚMERO DE VALORES ÚNICOS: 45000 \n",
            "\n",
            "[0.25955467 0.94265452 0.3519176  0.98767297 0.53253899 0.9153889\n",
            " 0.90173616 0.49160952 0.55974486 0.4445945 ] \n",
            "\n",
            "NOME DA COLUNA: score_6 \n",
            "\n",
            "NÚMERO DE VALORES ÚNICOS: 45000 \n",
            "\n",
            "[108.42727282  92.00254553 112.89245295  94.90249146 118.12620714\n",
            "  90.7112734  108.60967549 115.95418672  94.65728136 102.90568842] \n",
            "\n",
            "NOME DA COLUNA: risk_rate \n",
            "\n",
            "NÚMERO DE VALORES ÚNICOS: 82 \n",
            "\n",
            "[0.4  0.24 0.29 0.32 0.18 0.44 0.43 0.33 0.36 0.22] \n",
            "\n",
            "NOME DA COLUNA: last_amount_borrowed \n",
            "\n",
            "NÚMERO DE VALORES ÚNICOS: 14325 \n",
            "\n",
            "[25033.92      nan  7207.92  5019.53  7524.9  35027.98 20034.25  8024.08\n",
            " 35022.74 10820.95] \n",
            "\n",
            "NOME DA COLUNA: last_borrowed_in_months \n",
            "\n",
            "NÚMERO DE VALORES ÚNICOS: 2 \n",
            "\n",
            "[36. nan 60.] \n",
            "\n",
            "NOME DA COLUNA: credit_limit \n",
            "\n",
            "NÚMERO DE VALORES ÚNICOS: 20928 \n",
            "\n",
            "[     0.  39726.     nan  54591.  61055.  42666.  16291.  70840. 187003.\n",
            "  76387.] \n",
            "\n",
            "NOME DA COLUNA: reason \n",
            "\n",
            "NÚMERO DE VALORES ÚNICOS: 14874 \n",
            "\n",
            "['mLVIVxoGY7TUDJ1FyFoSIZi1SFcaBmO01AydRchaEiGYtUhXGgZjtNQMnUXIWhIhmLVIVxoGY7TUDJ1FyFoSIZi1SFcaBmO01AydRchaEiFrEDZv0n0d91R6HPwyVqmW'\n",
            " 'mLVIVxoGY7TUDJ1FyFoSIZi1SFcaBmO01AydRchaEiGYtUhXGgZjtNQMnUXIWhIhmLVIVxoGY7TUDJ1FyFoSIaEbXN/9bt4pci3t9ZArbXP3rnJkUI6G1sJC0+Ao35Wk'\n",
            " 'mLVIVxoGY7TUDJ1FyFoSIZi1SFcaBmO01AydRchaEiGYtUhXGgZjtNQMnUXIWhIhmLVIVxoGY7TUDJ1FyFoSIXuusuYraWV4rGB3v/7WqHIRsMoD5e3RXcnWOgQJkT1p'\n",
            " 'mLVIVxoGY7TUDJ1FyFoSIZi1SFcaBmO01AydRchaEiGYtUhXGgZjtNQMnUXIWhIhmLVIVxoGY7TUDJ1FyFoSIZi1SFcaBmO01AydRchaEiH9ooDQPWyPZgJWyjKkQUjr'\n",
            " 'mLVIVxoGY7TUDJ1FyFoSIZi1SFcaBmO01AydRchaEiGYtUhXGgZjtNQMnUXIWhIhmLVIVxoGY7TUDJ1FyFoSIZi1SFcaBmO01AydRchaEiEdG3NFsV4ax/pYj3/fxm1+'\n",
            " 'mLVIVxoGY7TUDJ1FyFoSIZi1SFcaBmO01AydRchaEiGYtUhXGgZjtNQMnUXIWhIhmLVIVxoGY7TUDJ1FyFoSIZi1SFcaBmO01AydRchaEiEq9HX01TBAA5Tr+Ya21qGa'\n",
            " 'mLVIVxoGY7TUDJ1FyFoSIZi1SFcaBmO01AydRchaEiGYtUhXGgZjtNQMnUXIWhIhmLVIVxoGY7TUDJ1FyFoSIZiVIQJhYz8ai7mHTtDYAzb69R4GP8tcQVRrvfDNzwiu'\n",
            " 'mLVIVxoGY7TUDJ1FyFoSIZi1SFcaBmO01AydRchaEiGYtUhXGgZjtNQMnUXIWhIhmLVIVxoGY7TUDJ1FyFoSIZi1SFcaBmO01AydRchaEiHhivbKT7INVx9xnxSsvtmu'\n",
            " 'mLVIVxoGY7TUDJ1FyFoSIZi1SFcaBmO01AydRchaEiGYtUhXGgZjtNQMnUXIWhIhmLVIVxoGY7TUDJ1FyFoSIZi1SFcaBmO01AydRchaEiEYBIlJtUyKqFL8woTrXmx/'\n",
            " 'mLVIVxoGY7TUDJ1FyFoSIZi1SFcaBmO01AydRchaEiGYtUhXGgZjtNQMnUXIWhIhmLVIVxoGY7TUDJ1FyFoSIZi1SFcaBmO01AydRchaEiGfq8TBeJ7iW8WSEMMHy0cq'] \n",
            "\n",
            "NOME DA COLUNA: income \n",
            "\n",
            "NÚMERO DE VALORES ÚNICOS: 41211 \n",
            "\n",
            "[ 65014.12 100018.91  65023.65  68830.01  60011.29  75024.28  49234.65\n",
            "  80024.6   31019.09  45026.26] \n",
            "\n",
            "NOME DA COLUNA: facebook_profile \n",
            "\n",
            "NÚMERO DE VALORES ÚNICOS: 2 \n",
            "\n",
            "[True False nan] \n",
            "\n",
            "NOME DA COLUNA: state \n",
            "\n",
            "NÚMERO DE VALORES ÚNICOS: 50 \n",
            "\n",
            "['sjJbkqJS7cXalHLBFA+EOQ==' 'xsd3ZdsI3356I3xMxZeiqQ=='\n",
            " 'Ygq6MsM98oC8yceExr69Ig==' 'KET/Pmr6rHp1RJ/P9ymztw=='\n",
            " 'JrdZzPZEa/YIIGwh8OdTKA==' 'orU7WJYGPT/xFwOXY1eBkw=='\n",
            " 'P1TKs1aii8osbgO+MszZ2w==' '1DpYl6dtzY0qE33poow3iw=='\n",
            " '7bX4XFXmYqoMspxup0CrKA==' '1vMmtGURgMcjxQbV2KQiUw=='] \n",
            "\n",
            "NOME DA COLUNA: zip \n",
            "\n",
            "NÚMERO DE VALORES ÚNICOS: 823 \n",
            "\n",
            "['Ernn+uVXCMq/6ARrBCcd+A==' 'rlWIXTBO+VOa34+SpGyhlQ=='\n",
            " 'PjTIDfJsK0DKL9fO7vuW2g==' 'Cc/kWDLQH3dpHv5HU+pLVA=='\n",
            " 'i036nmJ7rfxo+3EvCD7Jnw==' 'kfWDI5wYFHdi9PtKFI9EPg=='\n",
            " '3k2JCQ8Bp5oDwaI39ZJgHA==' 'kT9iINxmEtNoxGqiEuuu1w=='\n",
            " 'IS7hpLnmcFmoFQx5fYolyA==' 'FcreDj8X5CjkLfqOjlBKIQ=='] \n",
            "\n",
            "NOME DA COLUNA: channel \n",
            "\n",
            "NÚMERO DE VALORES ÚNICOS: 1 \n",
            "\n",
            "['NCqL3QBx0pscDnx3ixKwXg==' nan] \n",
            "\n",
            "NOME DA COLUNA: job_name \n",
            "\n",
            "NÚMERO DE VALORES ÚNICOS: 32265 \n",
            "\n",
            "['mLVIVxoGY7TUDJ1FyFoSIZi1SFcaBmO01AydRchaEiGYtUhXGgZjtNQMnUXIWhIhmLVIVxoGY7TUDJ1FyFoSIfLWrCIHPaD/zvEtj9kpRfs='\n",
            " 'mLVIVxoGY7TUDJ1FyFoSIZi1SFcaBmO01AydRchaEiGYtUhXGgZjtNQMnUXIWhIh7sqoG606xwyrjmu0iDn/AP3T7j18BzP4d/RKHMMmoIk='\n",
            " 'mLVIVxoGY7TUDJ1FyFoSIZi1SFcaBmO01AydRchaEiGYtUhXGgZjtNQMnUXIWhIhmLVIVxoGY7TUDJ1FyFoSIfffQUKytUTSlX4JIGctH6M='\n",
            " 'mLVIVxoGY7TUDJ1FyFoSIZi1SFcaBmO01AydRchaEiE56f0W+5Hy5CiEtkZHRNdactOSr2nh06GQkb/uwftSMJSvHiHp8SZdgFpQHI6Lb+Y='\n",
            " 'mLVIVxoGY7TUDJ1FyFoSIZi1SFcaBmO01AydRchaEiGYtUhXGgZjtNQMnUXIWhIhmLVIVxoGY7TUDJ1FyFoSIdpwOxib9SUhQ1B6QUeLOZY='\n",
            " 'mLVIVxoGY7TUDJ1FyFoSIZi1SFcaBmO01AydRchaEiGYtUhXGgZjtNQMnUXIWhIhxhCoObftaUUN8l+z6HXIO8ak+6dmm2iAvYgYip+InZM='\n",
            " 'mLVIVxoGY7TUDJ1FyFoSIZi1SFcaBmO01AydRchaEiGYtUhXGgZjtNQMnUXIWhIhBpvQMePNblZVVzv/CJqfrM4obylzUljonySq5ptkEks='\n",
            " 'mLVIVxoGY7TUDJ1FyFoSIZi1SFcaBmO01AydRchaEiGYtUhXGgZjtNQMnUXIWhIhOf26tBLmG5rxSDc2sYk9r198E9kYogH+O8/LRmdJTng='\n",
            " 'mLVIVxoGY7TUDJ1FyFoSIZi1SFcaBmO01AydRchaEiGYtUhXGgZjtNQMnUXIWhIhzqSFyK2WAvngAe2BRSJZNIjDCFkQqzz5S27+W9h0SmI='\n",
            " 'mLVIVxoGY7TUDJ1FyFoSIZi1SFcaBmO01AydRchaEiGYtUhXGgZjtNQMnUXIWhIhmLVIVxoGY7TUDJ1FyFoSIQln3MtHHR+KmZFy5b1pq7w='] \n",
            "\n",
            "NOME DA COLUNA: real_state \n",
            "\n",
            "NÚMERO DE VALORES ÚNICOS: 5 \n",
            "\n",
            "['N5/CE7lSkAfB04hVFFwllw==' 'n+xK9CfX0bCn77lClTWviw=='\n",
            " 'nSpvDsIsslUaX6GE6m6eQA==' nan 'UX7AdFYgQh+VrVC5eIaU9w=='\n",
            " '+qWF9pJpVGtTFn4vFjb/cg=='] \n",
            "\n",
            "NOME DA COLUNA: ok_since \n",
            "\n",
            "NÚMERO DE VALORES ÚNICOS: 100 \n",
            "\n",
            "[nan 50. 41. 11. 35. 16. 19. 23. 43. 17.] \n",
            "\n",
            "NOME DA COLUNA: n_bankruptcies \n",
            "\n",
            "NÚMERO DE VALORES ÚNICOS: 6 \n",
            "\n",
            "[ 0.  1. nan  2.  3.  4.  5.] \n",
            "\n",
            "NOME DA COLUNA: n_defaulted_loans \n",
            "\n",
            "NÚMERO DE VALORES ÚNICOS: 5 \n",
            "\n",
            "[ 0.  1. nan  2.  3.  5.] \n",
            "\n",
            "NOME DA COLUNA: n_accounts \n",
            "\n",
            "NÚMERO DE VALORES ÚNICOS: 44 \n",
            "\n",
            "[18. 14. 10. 19. 11.  9.  8.  7. 16.  6.] \n",
            "\n",
            "NOME DA COLUNA: n_issues \n",
            "\n",
            "NÚMERO DE VALORES ÚNICOS: 44 \n",
            "\n",
            "[18. 14. nan 19.  9.  7.  8. 16. 20.  5.] \n",
            "\n",
            "NOME DA COLUNA: application_time_applied \n",
            "\n",
            "NÚMERO DE VALORES ÚNICOS: 35543 \n",
            "\n",
            "['07:52:34' '02:34:29' '00:60:02' '11:20:49' '13:39:03' '05:27:02'\n",
            " '08:19:45' '17:58:42' '15:04:47' '04:47:22'] \n",
            "\n",
            "NOME DA COLUNA: application_time_in_funnel \n",
            "\n",
            "NÚMERO DE VALORES ÚNICOS: 501 \n",
            "\n",
            "[444 346   6 406 240 169  74 184 420   7] \n",
            "\n",
            "NOME DA COLUNA: email \n",
            "\n",
            "NÚMERO DE VALORES ÚNICOS: 6 \n",
            "\n",
            "['outlook.com' 'gmail.com' 'spgov.com' 'hotmail.com' 'hotmaill.com'\n",
            " 'gmaill.com'] \n",
            "\n",
            "NOME DA COLUNA: external_data_provider_credit_checks_last_2_year \n",
            "\n",
            "NÚMERO DE VALORES ÚNICOS: 1 \n",
            "\n",
            "[nan  0.] \n",
            "\n",
            "NOME DA COLUNA: external_data_provider_credit_checks_last_month \n",
            "\n",
            "NÚMERO DE VALORES ÚNICOS: 4 \n",
            "\n",
            "[2 1 3 0] \n",
            "\n",
            "NOME DA COLUNA: external_data_provider_credit_checks_last_year \n",
            "\n",
            "NÚMERO DE VALORES ÚNICOS: 2 \n",
            "\n",
            "[ 0. nan  1.] \n",
            "\n",
            "NOME DA COLUNA: external_data_provider_email_seen_before \n",
            "\n",
            "NÚMERO DE VALORES ÚNICOS: 62 \n",
            "\n",
            "[51. 17.  9. 38. 46. 21. 16. 37.  6. nan] \n",
            "\n",
            "NOME DA COLUNA: external_data_provider_first_name \n",
            "\n",
            "NÚMERO DE VALORES ÚNICOS: 32886 \n",
            "\n",
            "['leidelaura' 'diocezio' 'veralucia' 'venice' 'darzisa' 'teomar' 'weigma'\n",
            " 'orna' 'cleuber' 'elisete'] \n",
            "\n",
            "NOME DA COLUNA: external_data_provider_fraud_score \n",
            "\n",
            "NÚMERO DE VALORES ÚNICOS: 1001 \n",
            "\n",
            "[645 243  65 815 320 811 527 415 793 703] \n",
            "\n",
            "NOME DA COLUNA: lat_lon \n",
            "\n",
            "NÚMERO DE VALORES ÚNICOS: 22412 \n",
            "\n",
            "['(-29.151545708122246, -51.1386461804385)'\n",
            " '(-19.687710705798963, -47.94151536525154)'\n",
            " '(-28.748023890412284, -51.867279334353995)'\n",
            " '(-17.520650158450454, -39.75801139933186)'\n",
            " '(-16.574259446978008, -39.90990074785962)'\n",
            " '(-6.762413011455668, -35.13224579733013)'\n",
            " '(-22.90356694722871, -47.12093338650089)'\n",
            " '(-8.39950627124774, -46.207331472395396)'\n",
            " '(-21.22575737036379, -44.595846539016456)'\n",
            " '(-16.61107269517449, -49.34324651918292)'] \n",
            "\n",
            "NOME DA COLUNA: marketing_channel \n",
            "\n",
            "NÚMERO DE VALORES ÚNICOS: 9 \n",
            "\n",
            "['Invite-email' 'Radio-commercial' 'Waiting-list' 'Website' 'Twitter'\n",
            " 'Facebook' nan 'Instagram' 'Invite-web' 'LinkedIn'] \n",
            "\n",
            "NOME DA COLUNA: profile_phone_number \n",
            "\n",
            "NÚMERO DE VALORES ÚNICOS: 45000 \n",
            "\n",
            "['514-9840782' '251-3659293' '230-6097993' '261-3543751' '102-3660162'\n",
            " '787-1678197' '185-7402507' '503-9012277' '750-4705041' '132-3263001'] \n",
            "\n",
            "NOME DA COLUNA: reported_income \n",
            "\n",
            "NÚMERO DE VALORES ÚNICOS: 40025 \n",
            "\n",
            "[ 57849.   4902. 163679.   1086. 198618. 160198. 132928.   8658.  82272.\n",
            "  96889.] \n",
            "\n",
            "NOME DA COLUNA: shipping_state \n",
            "\n",
            "NÚMERO DE VALORES ÚNICOS: 25 \n",
            "\n",
            "['BR-MT' 'BR-RS' 'BR-RR' 'BR-RN' 'BR-SP' 'BR-AC' 'BR-MS' 'BR-PE' 'BR-AM'\n",
            " 'BR-CE'] \n",
            "\n",
            "NOME DA COLUNA: shipping_zip_code \n",
            "\n",
            "NÚMERO DE VALORES ÚNICOS: 28263 \n",
            "\n",
            "[17528 40933 50985 37825 52827 55266 47408 36168 49289 45389] \n",
            "\n",
            "NOME DA COLUNA: profile_tags \n",
            "\n",
            "NÚMERO DE VALORES ÚNICOS: 26131 \n",
            "\n",
            "[\"{'tags': ['n19', 'n8']}\" \"{'tags': ['n6', 'n7', 'nim']}\"\n",
            " \"{'tags': ['n0', 'n17', 'nim', 'da']}\" \"{'tags': ['n4']}\"\n",
            " \"{'tags': ['pro+aty', 'n19', 'da', 'b19']}\"\n",
            " \"{'tags': ['c1', 'n3', 'n9']}\" \"{'tags': ['n3']}\"\n",
            " \"{'tags': ['n15', 'c55', 'n14', 'n8', 'n3']}\"\n",
            " \"{'tags': ['n14', 'n15', 'n6']}\"\n",
            " \"{'tags': ['n9', 'pro+aty', 'n2', 'n1']}\"] \n",
            "\n",
            "NOME DA COLUNA: user_agent \n",
            "\n",
            "NÚMERO DE VALORES ÚNICOS: 297 \n",
            "\n",
            "['Mozilla/5.0 (Linux; Android 6.0.1; SGP771 Build/32.2.A.0.253; wv) AppleWebKit/537.36 (KHTML, like Gecko) Version/4.0 Chrome/52.0.2743.98 Safari/537.368'\n",
            " 'Mozilla/5.0 (Linux; Android 5.0.2; SAMSUNG SM-T550 Build/LRX22G) AppleWebKit/537.36 (KHTML, like Gecko) SamsungBrowser/3.3 Chrome/38.0.2125.102 Safari/537.36'\n",
            " 'Mozilla/5.0 (Linux; Android 6.0.1; SGP771 Build/32.2.A.0.253; wv) AppleWebKit/537.36 (KHTML, like Gecko) Version/4.0 Chrome/52.0.2743.98 Safari/537.363'\n",
            " 'Mozilla/5.0 (Linux; Android 6.0; HTC One X10 Build/MRA58K; wv) AppleWebKit/537.36 (KHTML, like Gecko) Version/4.0 Chrome/61.0.3163.98 Mobile Safari/537.361'\n",
            " 'Mozilla/5.0 (Linux; Android 7.0; Pixel C Build/NRD90M; wv) AppleWebKit/537.36 (KHTML, like Gecko) Version/4.0 Chrome/52.0.2743.98 Safari/537.369'\n",
            " 'Mozilla/5.0 (Linux; Android 6.0.1; Nexus 6P Build/MMB29P) AppleWebKit/537.36 (KHTML, like Gecko) Chrome/47.0.2526.83 Mobile Safari/537.361'\n",
            " 'Mozilla/5.0 (iPhone; CPU iPhone OS 11_0 like Mac OS X) AppleWebKit/604.1.38 (KHTML, like Gecko) Version/11.0 Mobile/15A5370a Safari/604.10'\n",
            " 'Mozilla/5.0 (iPhone9,4; U; CPU iPhone OS 10_0_1 like Mac OS X) AppleWebKit/602.1.50 (KHTML, like Gecko) Version/10.0 Mobile/14A403 Safari/602.16'\n",
            " 'Mozilla/5.0 (Apple-iPhone7C2/1202.466; U; CPU like Mac OS X; en) AppleWebKit/420+ (KHTML, like Gecko) Version/3.0 Mobile/1A543 Safari/419.38'\n",
            " 'Mozilla/5.0 (X11; Ubuntu; Linux x86_64; rv:15.0) Gecko/20100101 Firefox/15.0.12'] \n",
            "\n",
            "NOME DA COLUNA: target_fraud \n",
            "\n",
            "NÚMERO DE VALORES ÚNICOS: 2 \n",
            "\n",
            "[nan 'fraud_friends_family' 'fraud_id'] \n",
            "\n"
          ]
        }
      ]
    },
    {
      "cell_type": "code",
      "source": [
        "#Análise de valores nulos\n",
        "\n",
        "(df.isnull().sum()/df.shape[0]).sort_values(ascending=False)"
      ],
      "metadata": {
        "colab": {
          "base_uri": "https://localhost:8080/"
        },
        "id": "p6rw7NIUIdir",
        "outputId": "973b4531-9f4c-4a90-bdf4-ff49e7d4d4a6"
      },
      "execution_count": null,
      "outputs": [
        {
          "output_type": "execute_result",
          "data": {
            "text/plain": [
              "target_fraud                                       0.97\n",
              "last_amount_borrowed                               0.67\n",
              "last_borrowed_in_months                            0.67\n",
              "ok_since                                           0.59\n",
              "external_data_provider_credit_checks_last_2_year   0.50\n",
              "external_data_provider_credit_checks_last_year     0.34\n",
              "credit_limit                                       0.31\n",
              "n_issues                                           0.26\n",
              "facebook_profile                                   0.10\n",
              "marketing_channel                                  0.08\n",
              "job_name                                           0.07\n",
              "target_default                                     0.07\n",
              "external_data_provider_email_seen_before           0.05\n",
              "lat_lon                                            0.03\n",
              "user_agent                                         0.02\n",
              "n_bankruptcies                                     0.02\n",
              "n_defaulted_loans                                  0.01\n",
              "reason                                             0.01\n",
              "zip                                                0.01\n",
              "n_accounts                                         0.01\n",
              "channel                                            0.01\n",
              "score_1                                            0.01\n",
              "score_3                                            0.01\n",
              "risk_rate                                          0.01\n",
              "income                                             0.01\n",
              "real_state                                         0.01\n",
              "state                                              0.01\n",
              "score_2                                            0.01\n",
              "profile_tags                                       0.00\n",
              "shipping_zip_code                                  0.00\n",
              "shipping_state                                     0.00\n",
              "reported_income                                    0.00\n",
              "profile_phone_number                               0.00\n",
              "external_data_provider_credit_checks_last_month    0.00\n",
              "external_data_provider_fraud_score                 0.00\n",
              "external_data_provider_first_name                  0.00\n",
              "score_4                                            0.00\n",
              "score_5                                            0.00\n",
              "score_6                                            0.00\n",
              "email                                              0.00\n",
              "application_time_in_funnel                         0.00\n",
              "application_time_applied                           0.00\n",
              "ids                                                0.00\n",
              "dtype: float64"
            ]
          },
          "metadata": {},
          "execution_count": 7
        }
      ]
    },
    {
      "cell_type": "code",
      "source": [
        "#Analisando tipagem das colunas\n",
        "\n",
        "df.dtypes"
      ],
      "metadata": {
        "colab": {
          "base_uri": "https://localhost:8080/"
        },
        "id": "WFdL-zuKP2RJ",
        "outputId": "a05e6ddb-3286-4eec-a8fb-0bc435a6f2d8"
      },
      "execution_count": null,
      "outputs": [
        {
          "output_type": "execute_result",
          "data": {
            "text/plain": [
              "ids                                                  object\n",
              "target_default                                       object\n",
              "score_1                                              object\n",
              "score_2                                              object\n",
              "score_3                                             float64\n",
              "score_4                                             float64\n",
              "score_5                                             float64\n",
              "score_6                                             float64\n",
              "risk_rate                                           float64\n",
              "last_amount_borrowed                                float64\n",
              "last_borrowed_in_months                             float64\n",
              "credit_limit                                        float64\n",
              "reason                                               object\n",
              "income                                              float64\n",
              "facebook_profile                                     object\n",
              "state                                                object\n",
              "zip                                                  object\n",
              "channel                                              object\n",
              "job_name                                             object\n",
              "real_state                                           object\n",
              "ok_since                                            float64\n",
              "n_bankruptcies                                      float64\n",
              "n_defaulted_loans                                   float64\n",
              "n_accounts                                          float64\n",
              "n_issues                                            float64\n",
              "application_time_applied                             object\n",
              "application_time_in_funnel                            int64\n",
              "email                                                object\n",
              "external_data_provider_credit_checks_last_2_year    float64\n",
              "external_data_provider_credit_checks_last_month       int64\n",
              "external_data_provider_credit_checks_last_year      float64\n",
              "external_data_provider_email_seen_before            float64\n",
              "external_data_provider_first_name                    object\n",
              "external_data_provider_fraud_score                    int64\n",
              "lat_lon                                              object\n",
              "marketing_channel                                    object\n",
              "profile_phone_number                                 object\n",
              "reported_income                                     float64\n",
              "shipping_state                                       object\n",
              "shipping_zip_code                                     int64\n",
              "profile_tags                                         object\n",
              "user_agent                                           object\n",
              "target_fraud                                         object\n",
              "dtype: object"
            ]
          },
          "metadata": {},
          "execution_count": 8
        }
      ]
    },
    {
      "cell_type": "code",
      "source": [
        "#Eliminando as colunas\n",
        "\n",
        "#analisar depois last_amount_borrowed e last_borrowed_in_months.\n",
        "\n",
        "df.drop(columns=[\"ids\", \"score_1\", \"score_2\", \"reason\", \"state\", \"zip\", \"channel\", \"job_name\", \n",
        "                 \"real_state\", \"external_data_provider_credit_checks_last_2_year\", \"external_data_provider_first_name\", \"profile_phone_number\", \n",
        "                 \"profile_tags\", \"user_agent\", \"target_fraud\", \"ok_since\", \"last_borrowed_in_months\"], inplace=True)"
      ],
      "metadata": {
        "id": "jEBQ-y5uJQZf"
      },
      "execution_count": null,
      "outputs": []
    },
    {
      "cell_type": "markdown",
      "source": [
        ""
      ],
      "metadata": {
        "id": "6d_uTFPFTHrx"
      }
    },
    {
      "cell_type": "code",
      "source": [
        "#Eliminando linhas\n",
        "\n",
        "df.dropna(subset=[\"target_default\"], inplace=True)"
      ],
      "metadata": {
        "id": "UJ2IExvLMK_L"
      },
      "execution_count": null,
      "outputs": []
    },
    {
      "cell_type": "code",
      "source": [
        "df.external_data_provider_credit_checks_last_year.unique()"
      ],
      "metadata": {
        "colab": {
          "base_uri": "https://localhost:8080/"
        },
        "id": "mZX4fiYLGVy0",
        "outputId": "4a9443cc-3f5e-41a7-d3db-7e2c4e480283"
      },
      "execution_count": null,
      "outputs": [
        {
          "output_type": "execute_result",
          "data": {
            "text/plain": [
              "array([ 0., nan,  1.])"
            ]
          },
          "metadata": {},
          "execution_count": 11
        }
      ]
    },
    {
      "cell_type": "code",
      "source": [
        "#Tratando valores e tipagens nas colunas.\n",
        "\n",
        "df[\"external_data_provider_credit_checks_last_year\"] = df[\"external_data_provider_credit_checks_last_year\"].astype(str).replace('nan', np.nan)\n",
        "df[\"shipping_state\"] = df[\"shipping_state\"].str.replace(\"BR-\",\"\")\n",
        "df[\"email\"] = df[\"email\"].str.replace(\"hotmaill.com\",\"hotmail.com\").str.replace(\"gmaill.com\",\"gmail.com\")"
      ],
      "metadata": {
        "id": "41HawSKEMu0A"
      },
      "execution_count": null,
      "outputs": []
    },
    {
      "cell_type": "code",
      "source": [
        "df.external_data_provider_credit_checks_last_year.unique()"
      ],
      "metadata": {
        "colab": {
          "base_uri": "https://localhost:8080/"
        },
        "id": "QXttxqklGWuy",
        "outputId": "37f1fddc-f48a-4886-9cb7-68555aeb2b2c"
      },
      "execution_count": null,
      "outputs": [
        {
          "output_type": "execute_result",
          "data": {
            "text/plain": [
              "array(['0.0', nan, '1.0'], dtype=object)"
            ]
          },
          "metadata": {},
          "execution_count": 13
        }
      ]
    },
    {
      "cell_type": "code",
      "source": [
        "(df.isnull().sum()/df.shape[0]).sort_values(ascending=False)"
      ],
      "metadata": {
        "colab": {
          "base_uri": "https://localhost:8080/"
        },
        "id": "f9cMZUpRFRK9",
        "outputId": "71c8f00f-191d-4c61-be67-735d0a3beccf"
      },
      "execution_count": null,
      "outputs": [
        {
          "output_type": "execute_result",
          "data": {
            "text/plain": [
              "last_amount_borrowed                              0.66\n",
              "external_data_provider_credit_checks_last_year    0.34\n",
              "credit_limit                                      0.31\n",
              "n_issues                                          0.26\n",
              "facebook_profile                                  0.10\n",
              "marketing_channel                                 0.08\n",
              "external_data_provider_email_seen_before          0.05\n",
              "lat_lon                                           0.03\n",
              "n_bankruptcies                                    0.00\n",
              "n_defaulted_loans                                 0.00\n",
              "email                                             0.00\n",
              "shipping_state                                    0.00\n",
              "reported_income                                   0.00\n",
              "external_data_provider_fraud_score                0.00\n",
              "external_data_provider_credit_checks_last_month   0.00\n",
              "target_default                                    0.00\n",
              "application_time_in_funnel                        0.00\n",
              "application_time_applied                          0.00\n",
              "score_3                                           0.00\n",
              "n_accounts                                        0.00\n",
              "income                                            0.00\n",
              "risk_rate                                         0.00\n",
              "score_6                                           0.00\n",
              "score_5                                           0.00\n",
              "score_4                                           0.00\n",
              "shipping_zip_code                                 0.00\n",
              "dtype: float64"
            ]
          },
          "metadata": {},
          "execution_count": 14
        }
      ]
    },
    {
      "cell_type": "markdown",
      "source": [
        "## **TRATAMENTO DOS VALORES NULOS:**\n",
        "\n",
        "* Tratamento específico para a variável \"last_amount_borrowed\" e para a variável \"credit_limit\".\n",
        "* Usar a mediana para as demais variáveis numéricas por conta de outliers.\n",
        "* Usar a moda para variáveis categóricas."
      ],
      "metadata": {
        "id": "P0p0BMWRfNgN"
      }
    },
    {
      "cell_type": "code",
      "source": [
        "#Tratamento das variáveis\n",
        "null_values = list()\n",
        "null_categorical = list()\n",
        "\n",
        "for i, c in enumerate(df.columns):\n",
        "  if df[c].isnull().sum() != 0:\n",
        "    if df.dtypes[i] == \"O\":\n",
        "      null_categorical.append(c)\n",
        "    else:\n",
        "      null_values.append(c)"
      ],
      "metadata": {
        "id": "8ivClmlzLug3"
      },
      "execution_count": null,
      "outputs": []
    },
    {
      "cell_type": "code",
      "source": [
        "df[null_values].describe().T"
      ],
      "metadata": {
        "colab": {
          "base_uri": "https://localhost:8080/",
          "height": 237
        },
        "id": "Fq5NhbcqT1bt",
        "outputId": "2803c3af-2759-4b7f-eba8-cbaa0f6a7a3d"
      },
      "execution_count": null,
      "outputs": [
        {
          "output_type": "execute_result",
          "data": {
            "text/plain": [
              "                                             count      mean       std  \\\n",
              "last_amount_borrowed                     14,133.00 13,328.10  7,918.70   \n",
              "credit_limit                             28,632.00 33,877.22 36,141.99   \n",
              "n_bankruptcies                           41,606.00      0.08      0.27   \n",
              "n_defaulted_loans                        41,729.00      0.00      0.08   \n",
              "n_issues                                 30,818.00     11.02      4.60   \n",
              "external_data_provider_email_seen_before 39,656.00     12.73    125.71   \n",
              "\n",
              "                                              min      25%       50%  \\\n",
              "last_amount_borrowed                     1,005.18 7,210.28 12,011.05   \n",
              "credit_limit                                 0.00 9,975.00 25,213.00   \n",
              "n_bankruptcies                               0.00     0.00      0.00   \n",
              "n_defaulted_loans                            0.00     0.00      0.00   \n",
              "n_issues                                     0.00     8.00     10.00   \n",
              "external_data_provider_email_seen_before  -999.00    11.00     27.00   \n",
              "\n",
              "                                               75%        max  \n",
              "last_amount_borrowed                     18,030.16  35,059.60  \n",
              "credit_limit                             46,492.50 448,269.00  \n",
              "n_bankruptcies                                0.00       5.00  \n",
              "n_defaulted_loans                             0.00       5.00  \n",
              "n_issues                                     14.00      49.00  \n",
              "external_data_provider_email_seen_before     43.00      59.00  "
            ],
            "text/html": [
              "\n",
              "  <div id=\"df-2acaaab4-4874-4a46-b4f0-20ea99c84dbb\">\n",
              "    <div class=\"colab-df-container\">\n",
              "      <div>\n",
              "<style scoped>\n",
              "    .dataframe tbody tr th:only-of-type {\n",
              "        vertical-align: middle;\n",
              "    }\n",
              "\n",
              "    .dataframe tbody tr th {\n",
              "        vertical-align: top;\n",
              "    }\n",
              "\n",
              "    .dataframe thead th {\n",
              "        text-align: right;\n",
              "    }\n",
              "</style>\n",
              "<table border=\"1\" class=\"dataframe\">\n",
              "  <thead>\n",
              "    <tr style=\"text-align: right;\">\n",
              "      <th></th>\n",
              "      <th>count</th>\n",
              "      <th>mean</th>\n",
              "      <th>std</th>\n",
              "      <th>min</th>\n",
              "      <th>25%</th>\n",
              "      <th>50%</th>\n",
              "      <th>75%</th>\n",
              "      <th>max</th>\n",
              "    </tr>\n",
              "  </thead>\n",
              "  <tbody>\n",
              "    <tr>\n",
              "      <th>last_amount_borrowed</th>\n",
              "      <td>14,133.00</td>\n",
              "      <td>13,328.10</td>\n",
              "      <td>7,918.70</td>\n",
              "      <td>1,005.18</td>\n",
              "      <td>7,210.28</td>\n",
              "      <td>12,011.05</td>\n",
              "      <td>18,030.16</td>\n",
              "      <td>35,059.60</td>\n",
              "    </tr>\n",
              "    <tr>\n",
              "      <th>credit_limit</th>\n",
              "      <td>28,632.00</td>\n",
              "      <td>33,877.22</td>\n",
              "      <td>36,141.99</td>\n",
              "      <td>0.00</td>\n",
              "      <td>9,975.00</td>\n",
              "      <td>25,213.00</td>\n",
              "      <td>46,492.50</td>\n",
              "      <td>448,269.00</td>\n",
              "    </tr>\n",
              "    <tr>\n",
              "      <th>n_bankruptcies</th>\n",
              "      <td>41,606.00</td>\n",
              "      <td>0.08</td>\n",
              "      <td>0.27</td>\n",
              "      <td>0.00</td>\n",
              "      <td>0.00</td>\n",
              "      <td>0.00</td>\n",
              "      <td>0.00</td>\n",
              "      <td>5.00</td>\n",
              "    </tr>\n",
              "    <tr>\n",
              "      <th>n_defaulted_loans</th>\n",
              "      <td>41,729.00</td>\n",
              "      <td>0.00</td>\n",
              "      <td>0.08</td>\n",
              "      <td>0.00</td>\n",
              "      <td>0.00</td>\n",
              "      <td>0.00</td>\n",
              "      <td>0.00</td>\n",
              "      <td>5.00</td>\n",
              "    </tr>\n",
              "    <tr>\n",
              "      <th>n_issues</th>\n",
              "      <td>30,818.00</td>\n",
              "      <td>11.02</td>\n",
              "      <td>4.60</td>\n",
              "      <td>0.00</td>\n",
              "      <td>8.00</td>\n",
              "      <td>10.00</td>\n",
              "      <td>14.00</td>\n",
              "      <td>49.00</td>\n",
              "    </tr>\n",
              "    <tr>\n",
              "      <th>external_data_provider_email_seen_before</th>\n",
              "      <td>39,656.00</td>\n",
              "      <td>12.73</td>\n",
              "      <td>125.71</td>\n",
              "      <td>-999.00</td>\n",
              "      <td>11.00</td>\n",
              "      <td>27.00</td>\n",
              "      <td>43.00</td>\n",
              "      <td>59.00</td>\n",
              "    </tr>\n",
              "  </tbody>\n",
              "</table>\n",
              "</div>\n",
              "      <button class=\"colab-df-convert\" onclick=\"convertToInteractive('df-2acaaab4-4874-4a46-b4f0-20ea99c84dbb')\"\n",
              "              title=\"Convert this dataframe to an interactive table.\"\n",
              "              style=\"display:none;\">\n",
              "        \n",
              "  <svg xmlns=\"http://www.w3.org/2000/svg\" height=\"24px\"viewBox=\"0 0 24 24\"\n",
              "       width=\"24px\">\n",
              "    <path d=\"M0 0h24v24H0V0z\" fill=\"none\"/>\n",
              "    <path d=\"M18.56 5.44l.94 2.06.94-2.06 2.06-.94-2.06-.94-.94-2.06-.94 2.06-2.06.94zm-11 1L8.5 8.5l.94-2.06 2.06-.94-2.06-.94L8.5 2.5l-.94 2.06-2.06.94zm10 10l.94 2.06.94-2.06 2.06-.94-2.06-.94-.94-2.06-.94 2.06-2.06.94z\"/><path d=\"M17.41 7.96l-1.37-1.37c-.4-.4-.92-.59-1.43-.59-.52 0-1.04.2-1.43.59L10.3 9.45l-7.72 7.72c-.78.78-.78 2.05 0 2.83L4 21.41c.39.39.9.59 1.41.59.51 0 1.02-.2 1.41-.59l7.78-7.78 2.81-2.81c.8-.78.8-2.07 0-2.86zM5.41 20L4 18.59l7.72-7.72 1.47 1.35L5.41 20z\"/>\n",
              "  </svg>\n",
              "      </button>\n",
              "      \n",
              "  <style>\n",
              "    .colab-df-container {\n",
              "      display:flex;\n",
              "      flex-wrap:wrap;\n",
              "      gap: 12px;\n",
              "    }\n",
              "\n",
              "    .colab-df-convert {\n",
              "      background-color: #E8F0FE;\n",
              "      border: none;\n",
              "      border-radius: 50%;\n",
              "      cursor: pointer;\n",
              "      display: none;\n",
              "      fill: #1967D2;\n",
              "      height: 32px;\n",
              "      padding: 0 0 0 0;\n",
              "      width: 32px;\n",
              "    }\n",
              "\n",
              "    .colab-df-convert:hover {\n",
              "      background-color: #E2EBFA;\n",
              "      box-shadow: 0px 1px 2px rgba(60, 64, 67, 0.3), 0px 1px 3px 1px rgba(60, 64, 67, 0.15);\n",
              "      fill: #174EA6;\n",
              "    }\n",
              "\n",
              "    [theme=dark] .colab-df-convert {\n",
              "      background-color: #3B4455;\n",
              "      fill: #D2E3FC;\n",
              "    }\n",
              "\n",
              "    [theme=dark] .colab-df-convert:hover {\n",
              "      background-color: #434B5C;\n",
              "      box-shadow: 0px 1px 3px 1px rgba(0, 0, 0, 0.15);\n",
              "      filter: drop-shadow(0px 1px 2px rgba(0, 0, 0, 0.3));\n",
              "      fill: #FFFFFF;\n",
              "    }\n",
              "  </style>\n",
              "\n",
              "      <script>\n",
              "        const buttonEl =\n",
              "          document.querySelector('#df-2acaaab4-4874-4a46-b4f0-20ea99c84dbb button.colab-df-convert');\n",
              "        buttonEl.style.display =\n",
              "          google.colab.kernel.accessAllowed ? 'block' : 'none';\n",
              "\n",
              "        async function convertToInteractive(key) {\n",
              "          const element = document.querySelector('#df-2acaaab4-4874-4a46-b4f0-20ea99c84dbb');\n",
              "          const dataTable =\n",
              "            await google.colab.kernel.invokeFunction('convertToInteractive',\n",
              "                                                     [key], {});\n",
              "          if (!dataTable) return;\n",
              "\n",
              "          const docLinkHtml = 'Like what you see? Visit the ' +\n",
              "            '<a target=\"_blank\" href=https://colab.research.google.com/notebooks/data_table.ipynb>data table notebook</a>'\n",
              "            + ' to learn more about interactive tables.';\n",
              "          element.innerHTML = '';\n",
              "          dataTable['output_type'] = 'display_data';\n",
              "          await google.colab.output.renderOutput(dataTable, element);\n",
              "          const docLink = document.createElement('div');\n",
              "          docLink.innerHTML = docLinkHtml;\n",
              "          element.appendChild(docLink);\n",
              "        }\n",
              "      </script>\n",
              "    </div>\n",
              "  </div>\n",
              "  "
            ]
          },
          "metadata": {},
          "execution_count": 16
        }
      ]
    },
    {
      "cell_type": "markdown",
      "source": [
        "#### **TRATAMENTO DE VALORES NULOS - LAST_AMOUNT_BORROWED E CREDIT_LIMIT**\n",
        "\n",
        "* É provável que as variáveis \"last_amount_borrowed\" e \"credit_limit\" estejam diretamente relacionadas às condições de renda do cliente, visto que instituições financeiras decidem o quanto prover de limite e o quanto emprestar de crédito, baseadas nas condições de renda do cliente.\n",
        "\n",
        "* Portanto, seria incorreto apenas atribuir a mediana de uma distribuição a clientes com características de renda distintas."
      ],
      "metadata": {
        "id": "ciijJWzugzn8"
      }
    },
    {
      "cell_type": "code",
      "source": [
        "df_fillna = df.copy()"
      ],
      "metadata": {
        "id": "jaFhWMc1i5Cv"
      },
      "execution_count": null,
      "outputs": []
    },
    {
      "cell_type": "code",
      "source": [
        "df_fillna.fillna(0, inplace=True)"
      ],
      "metadata": {
        "id": "ep_5fiG725sC"
      },
      "execution_count": null,
      "outputs": []
    },
    {
      "cell_type": "code",
      "source": [
        "df_amount_zero = df_fillna[['last_amount_borrowed', 'target_default']].loc[df_fillna.last_amount_borrowed == 0]\n",
        "df_credit_zero = df_fillna[['credit_limit', 'target_default']].loc[df_fillna.credit_limit == 0]"
      ],
      "metadata": {
        "id": "V11sHCdDjAJ0"
      },
      "execution_count": null,
      "outputs": []
    },
    {
      "cell_type": "markdown",
      "source": [
        "* Primeiramente, partiu-se do ponto que os valores nulos poderiam ser clientes que não possuiam nem crédito tomado nem limite de crédito.\n",
        "\n",
        "* Visto isso, foi tomada a decisão de verificar se existiam valores \"Trues\" da variável target em relação aos valores nulos da variável de crédito tomado e de limite de crédito.\n",
        "\n",
        "* Se a presença fosse confirmada, é impossível que clientes que não possuam limite de crédito nem crédito tomado sejam inandimplentes.\n",
        "\n",
        "* Portanto, as variáveis deveriam ser tratadas de maneiras distintas."
      ],
      "metadata": {
        "id": "_sDcREcGpcGg"
      }
    },
    {
      "cell_type": "code",
      "source": [
        "fig, [ax1, ax2] = plt.subplots(ncols=2, figsize=(15,5))\n",
        "\n",
        "sns.countplot(x='target_default', data=df_amount_zero, ax=ax1)\n",
        "sns.countplot(x='target_default', data=df_credit_zero, ax=ax2)\n",
        "\n",
        "ax1.set_title('Null Last Amount Borrowed X Target Default', size=13)\n",
        "ax2.set_title('Null Credit Limit X Target Default', size=13)\n",
        "\n",
        "plt.show();"
      ],
      "metadata": {
        "colab": {
          "base_uri": "https://localhost:8080/",
          "height": 350
        },
        "id": "aAL8uA_fj2Zx",
        "outputId": "830e8062-f6c4-42ee-cf4e-4566be1c2112"
      },
      "execution_count": null,
      "outputs": [
        {
          "output_type": "display_data",
          "data": {
            "text/plain": [
              "<Figure size 1080x360 with 2 Axes>"
            ],
            "image/png": "[encoded data removed]"
          },
          "metadata": {
            "needs_background": "light"
          }
        }
      ]
    },
    {
      "cell_type": "markdown",
      "source": [
        "* Como a presença de valores \"True\" da variável target foi confirmada, optou-se por fazer uma análise mais aprofundada para entender como os valores não nulos das variáveis \"last_amount_borrowed\" e \"credit_limit\" se comportam frente às classificações da variável target.\n",
        "\n",
        "* Para isso, foram criadas as variáveis **\"amount_x_income\"** e **\"credit_x_income\"** para entender como as variáveis de crédito e limite de crédito se comportam em relação à renda do cliente.\n",
        "\n"
      ],
      "metadata": {
        "id": "GJNgaZXQqb-R"
      }
    },
    {
      "cell_type": "code",
      "source": [
        "df_amount_analyse = df_fillna[[\"income\",\"last_amount_borrowed\", \"target_default\"]].loc[df_fillna.last_amount_borrowed != 0]\n",
        "df_credit_analyse = df_fillna[[\"income\",\"credit_limit\", \"target_default\"]].loc[df_fillna.last_amount_borrowed != 0]"
      ],
      "metadata": {
        "id": "I1sdEy31k8tg"
      },
      "execution_count": null,
      "outputs": []
    },
    {
      "cell_type": "code",
      "source": [
        "df_amount_analyse[\"amount_x_income\"] = df_amount_analyse[\"last_amount_borrowed\"]/df_amount_analyse['income']\n",
        "df_credit_analyse[\"credit_x_income\"] = df_credit_analyse[\"credit_limit\"]/df_credit_analyse['income']"
      ],
      "metadata": {
        "id": "mmNQ6vNF2TNI"
      },
      "execution_count": null,
      "outputs": []
    },
    {
      "cell_type": "code",
      "source": [
        "df_amount_analyse_false = df_amount_analyse.loc[df_amount_analyse['target_default']==False] \n",
        "df_amount_analyse_true = df_amount_analyse.loc[df_amount_analyse['target_default']==True]\n",
        "\n",
        "df_credit_analyse_false = df_credit_analyse.loc[df_credit_analyse['target_default']==False] \n",
        "df_credit_analyse_true = df_credit_analyse.loc[df_credit_analyse['target_default']==True] "
      ],
      "metadata": {
        "id": "qKTukw7T8YD_"
      },
      "execution_count": null,
      "outputs": []
    },
    {
      "cell_type": "markdown",
      "source": [
        "#### **ANÁLISE DE BOXPLOT - LAST_AMOUNT_BORROWED E CREDIT_LIMIT**\n",
        "\n",
        "**last_amount_borrowed:**\n",
        "\n",
        "* presença maior de outliers quando a variável target é \"False\".\n",
        "* possivelmente, um uso da mediana precarizaria mais a previsão das classificações da varíavel target \"False\" em relação à \"True\".\n",
        "\n",
        "**credit_limit:**\n",
        "\n",
        "* presença maior de outliers em ambas as classificações da variável target.\n",
        "* necessário mais análise para verificar qual seria a melhor maneira de fazer o tratamento dos valores nulos.\n",
        "\n"
      ],
      "metadata": {
        "id": "IqkXkT8HrIuo"
      }
    },
    {
      "cell_type": "code",
      "source": [
        "fig, [[ax1, ax2],[ax3,ax4]] = plt.subplots(nrows=2, ncols=2, figsize=(20, 10))\n",
        "\n",
        "plt.suptitle(\"Análise de Boxplot - Last Amount Borrowed e Credit Limit\", size=35)\n",
        "\n",
        "sns.boxplot(df_amount_analyse_false[\"amount_x_income\"], ax=ax1)\n",
        "ax1.set_xlabel(\"amount_x_income_false\", size=15)\n",
        "\n",
        "sns.boxplot(df_amount_analyse_true[\"amount_x_income\"], ax=ax2)\n",
        "ax2.set_xlabel(\"amount_x_income_true\", size=15)\n",
        "\n",
        "sns.boxplot(df_credit_analyse_false[\"credit_x_income\"], color='orange', ax=ax3)\n",
        "ax3.set_xlabel(\"credit_x_income_false\", size=15)\n",
        "\n",
        "sns.boxplot(df_credit_analyse_true[\"credit_x_income\"], color='orange',ax=ax4)\n",
        "ax4.set_xlabel(\"credit_x_income_true\", size=15)\n",
        "\n",
        "plt.show();"
      ],
      "metadata": {
        "colab": {
          "base_uri": "https://localhost:8080/",
          "height": 684
        },
        "id": "dLj0So-CnI-a",
        "outputId": "0b1fc1d6-fb3d-48bb-bc38-3bba3050c730"
      },
      "execution_count": null,
      "outputs": [
        {
          "output_type": "display_data",
          "data": {
            "text/plain": [
              "<Figure size 1440x720 with 4 Axes>"
            ],
            "image/png": "[encoded data removed]"
          },
          "metadata": {
            "needs_background": "light"
          }
        }
      ]
    },
    {
      "cell_type": "markdown",
      "source": [
        "#### **ANÁLISE DE HISTOGRAMA - LAST_AMOUNT_BORROWED E CREDIT_LIMIT**\n",
        "\n",
        "**last_amount_borrowed:**\n",
        "\n",
        "* As duas distribuições para cada uma das classificações da variável target possuem distribuições semelhantes. Portanto, não existe tanta discrepância entre como os clientes adimplentes e inadimplentes se comportam em relação aos pagamentos, frente à sua renda.\n",
        "\n",
        "**credit_limit:**\n",
        "\n",
        "* As duas distribuições para cada uma das classificações da variável target possuem distribuições semelhantes. Portanto, não existe tanta discrepância em relação ao limite de crédito entre clientes adimplentes e inadimplentes, frente à sua renda..\n",
        "\n",
        "* Percebe-se uma frequência muito maior entre a proporção de 0 a 1 do que em valores mais extremos. Isso pode ser um indício para validar o uso da mediana, independente de outliers.\n",
        "\n",
        "\n",
        "\n"
      ],
      "metadata": {
        "id": "cTC_I0vHtexw"
      }
    },
    {
      "cell_type": "code",
      "source": [
        "fig, [[ax1, ax2],[ax3,ax4]] = plt.subplots(nrows=2, ncols=2, figsize=(20, 10))\n",
        "\n",
        "plt.suptitle(\"Análise de Histograma - Last Amount Borrowed e Credit Limit\", size=35)\n",
        "\n",
        "ax1.hist(df_amount_analyse_false[\"amount_x_income\"])\n",
        "ax1.set_xlabel(\"amount_x_income_false\", size=15)\n",
        "\n",
        "ax2.hist(df_amount_analyse_true[\"amount_x_income\"])\n",
        "ax2.set_xlabel(\"amount_x_income_true\", size=15)\n",
        "\n",
        "ax3.hist(df_credit_analyse_false[\"credit_x_income\"], color='orange')\n",
        "ax3.set_xlabel(\"credit_x_income_false\", size=15)\n",
        "\n",
        "ax4.hist(df_credit_analyse_true[\"credit_x_income\"], color='orange')\n",
        "ax4.set_xlabel(\"credit_x_income_true\", size=15)\n",
        "\n",
        "plt.show();"
      ],
      "metadata": {
        "colab": {
          "base_uri": "https://localhost:8080/",
          "height": 684
        },
        "id": "aFJeBqVN-3LN",
        "outputId": "4959b7db-af44-4418-9560-d4de1abd7b8a"
      },
      "execution_count": null,
      "outputs": [
        {
          "output_type": "display_data",
          "data": {
            "text/plain": [
              "<Figure size 1440x720 with 4 Axes>"
            ],
            "image/png": "[encoded data removed]"
          },
          "metadata": {
            "needs_background": "light"
          }
        }
      ]
    },
    {
      "cell_type": "markdown",
      "source": [
        "* Foram escolhidas, portanto, as respectivas medianas, multiplicadas pela renda de cada indivíduo, em relação a cada uma das distribuições da variável target, para substituir os valores nulos das respectivas variáveis."
      ],
      "metadata": {
        "id": "DxIyYtWMvUYc"
      }
    },
    {
      "cell_type": "code",
      "source": [
        "m1 = df[\"target_default\"] == True\n",
        "m2 = df[\"target_default\"] == False\n",
        "\n",
        "df.loc[m1,'last_amount_borrowed'] = df.loc[m1,'last_amount_borrowed'].fillna(df.loc[m1,'income']*df_amount_analyse_true['amount_x_income'].median())\n",
        "df.loc[m2,'last_amount_borrowed'] = df.loc[m2,'last_amount_borrowed'].fillna(df.loc[m2,'income']*df_amount_analyse_false['amount_x_income'].median())\n",
        "\n",
        "df.loc[m1,'credit_limit'] = df.loc[m1,'credit_limit'].fillna(df.loc[m1,'income']*df_credit_analyse_true['credit_x_income'].median())\n",
        "df.loc[m2,'credit_limit'] = df.loc[m2,'credit_limit'].fillna(df.loc[m2,'income']*df_credit_analyse_false['credit_x_income'].median())"
      ],
      "metadata": {
        "id": "7lOFZ_a6si05"
      },
      "execution_count": null,
      "outputs": []
    },
    {
      "cell_type": "code",
      "source": [
        "df.isnull().sum().sort_values()"
      ],
      "metadata": {
        "colab": {
          "base_uri": "https://localhost:8080/"
        },
        "id": "Pil7035JARNg",
        "outputId": "2e49c354-66a2-4d82-d20b-3bd43d4413ba"
      },
      "execution_count": null,
      "outputs": [
        {
          "output_type": "execute_result",
          "data": {
            "text/plain": [
              "target_default                                         0\n",
              "reported_income                                        0\n",
              "external_data_provider_fraud_score                     0\n",
              "external_data_provider_credit_checks_last_month        0\n",
              "email                                                  0\n",
              "application_time_in_funnel                             0\n",
              "application_time_applied                               0\n",
              "shipping_state                                         0\n",
              "n_accounts                                             0\n",
              "score_5                                                0\n",
              "score_3                                                0\n",
              "score_4                                                0\n",
              "income                                                 0\n",
              "score_6                                                0\n",
              "risk_rate                                              0\n",
              "shipping_zip_code                                      0\n",
              "credit_limit                                           0\n",
              "last_amount_borrowed                                   0\n",
              "n_defaulted_loans                                     12\n",
              "n_bankruptcies                                       135\n",
              "lat_lon                                             1262\n",
              "external_data_provider_email_seen_before            2085\n",
              "marketing_channel                                   3308\n",
              "facebook_profile                                    4153\n",
              "n_issues                                           10923\n",
              "external_data_provider_credit_checks_last_year     14021\n",
              "dtype: int64"
            ]
          },
          "metadata": {},
          "execution_count": 27
        }
      ]
    },
    {
      "cell_type": "markdown",
      "source": [
        "#### **TRATAMENTO DE VALORES NULOS - DEMAIS VARIÁVEIS**\n",
        "\n",
        "* Para as demais variáveis, foram utilizadas os valores de mediana e moda da distribuição."
      ],
      "metadata": {
        "id": "wLPYg8wnildq"
      }
    },
    {
      "cell_type": "code",
      "source": [
        "null_values.remove('last_amount_borrowed')\n",
        "null_values.remove('credit_limit')"
      ],
      "metadata": {
        "id": "zW5wg0z5zlPH"
      },
      "execution_count": null,
      "outputs": []
    },
    {
      "cell_type": "code",
      "source": [
        "fig, ax = plt.subplots(nrows=4, figsize=(20, 20))\n",
        "\n",
        "plt.subplots_adjust(hspace=0.5)\n",
        "\n",
        "for i, c in enumerate(null_values):\n",
        "  sns.boxplot(df[c], ax=ax[i])\n",
        "  ax[i].set_xlabel(c, size=20)\n",
        "\n",
        "plt.show();"
      ],
      "metadata": {
        "colab": {
          "base_uri": "https://localhost:8080/",
          "height": 1000
        },
        "id": "fWA7C2VofZVn",
        "outputId": "3095f725-cbb9-4072-d8c3-b22f91e56e97"
      },
      "execution_count": null,
      "outputs": [
        {
          "output_type": "display_data",
          "data": {
            "text/plain": [
              "<Figure size 1440x1440 with 4 Axes>"
            ],
            "image/png": "[encoded data removed]"
          },
          "metadata": {
            "needs_background": "light"
          }
        }
      ]
    },
    {
      "cell_type": "code",
      "source": [
        "#substituindo pela mediana.\n",
        "\n",
        "for c in null_values:\n",
        "  df[c].fillna(df[c].median(), inplace=True)\n",
        "\n",
        "#substituindo pela moda.\n",
        "\n",
        "for c in null_categorical:\n",
        "  df[c].fillna(df[c].mode().iloc[0], inplace=True)"
      ],
      "metadata": {
        "id": "VxPcc2mG-zto"
      },
      "execution_count": null,
      "outputs": []
    },
    {
      "cell_type": "markdown",
      "source": [
        "## **TRATAMENTO DE OUTLIERS**\n",
        "\n",
        "**COLUNAS TRATADAS:**\n",
        "\n",
        "* **reported_income:** Tratamento de valores infinitos e outliers.\n",
        "* **external_data_provider_email_seen_before:** Eliminação de valores negativos.\n",
        "\n",
        "**OBS:** em termos de outliers, as demais variáveis apresentaram valores que podem ser consistentes com a realidade.\n"
      ],
      "metadata": {
        "id": "-29R3HGQRiJi"
      }
    },
    {
      "cell_type": "code",
      "source": [
        "df.describe().T"
      ],
      "metadata": {
        "colab": {
          "base_uri": "https://localhost:8080/",
          "height": 614
        },
        "id": "nSoAUiJZ1spM",
        "outputId": "dab280aa-d089-4f25-a8f0-60bebf603f7d"
      },
      "execution_count": null,
      "outputs": [
        {
          "output_type": "execute_result",
          "data": {
            "text/plain": [
              "                                                    count      mean       std  \\\n",
              "score_3                                         41,741.00    346.46    110.10   \n",
              "score_4                                         41,741.00    100.01      3.18   \n",
              "score_5                                         41,741.00      0.50      0.29   \n",
              "score_6                                         41,741.00     99.92     10.02   \n",
              "risk_rate                                       41,741.00      0.29      0.10   \n",
              "last_amount_borrowed                            41,741.00 13,873.76  9,890.49   \n",
              "credit_limit                                    41,741.00 27,116.96 31,914.09   \n",
              "income                                          41,741.00 71,080.12 52,259.78   \n",
              "n_bankruptcies                                  41,741.00      0.08      0.27   \n",
              "n_defaulted_loans                               41,741.00      0.00      0.08   \n",
              "n_accounts                                      41,741.00     10.64      4.59   \n",
              "n_issues                                        41,741.00     10.76      3.97   \n",
              "application_time_in_funnel                      41,741.00    247.75    146.33   \n",
              "external_data_provider_credit_checks_last_month 41,741.00      1.50      1.11   \n",
              "external_data_provider_email_seen_before        41,741.00     13.44    122.57   \n",
              "external_data_provider_fraud_score              41,741.00    500.49    287.99   \n",
              "reported_income                                 41,741.00       inf       NaN   \n",
              "shipping_zip_code                               41,741.00 33,910.86 12,696.43   \n",
              "\n",
              "                                                      min       25%  \\\n",
              "score_3                                              0.00    270.00   \n",
              "score_4                                             86.19     97.86   \n",
              "score_5                                              0.00      0.25   \n",
              "score_6                                             60.66     93.18   \n",
              "risk_rate                                            0.00      0.22   \n",
              "last_amount_borrowed                               922.97  8,238.21   \n",
              "credit_limit                                         0.00  8,001.16   \n",
              "income                                           4,821.18 44,019.58   \n",
              "n_bankruptcies                                       0.00      0.00   \n",
              "n_defaulted_loans                                    0.00      0.00   \n",
              "n_accounts                                           0.00      7.00   \n",
              "n_issues                                             0.00      9.00   \n",
              "application_time_in_funnel                           0.00    120.00   \n",
              "external_data_provider_credit_checks_last_month      0.00      1.00   \n",
              "external_data_provider_email_seen_before          -999.00     12.00   \n",
              "external_data_provider_fraud_score                   0.00    252.00   \n",
              "reported_income                                    403.00 50,910.00   \n",
              "shipping_zip_code                               12,001.00 22,914.00   \n",
              "\n",
              "                                                       50%        75%  \\\n",
              "score_3                                             340.00     420.00   \n",
              "score_4                                             100.02     102.14   \n",
              "score_5                                               0.50       0.75   \n",
              "score_6                                              99.98     106.63   \n",
              "risk_rate                                             0.29       0.36   \n",
              "last_amount_borrowed                             12,021.41  17,294.79   \n",
              "credit_limit                                     16,794.00  35,516.00   \n",
              "income                                           60,044.09  85,032.89   \n",
              "n_bankruptcies                                        0.00       0.00   \n",
              "n_defaulted_loans                                     0.00       0.00   \n",
              "n_accounts                                           10.00      13.00   \n",
              "n_issues                                             10.00      12.00   \n",
              "application_time_in_funnel                          248.00     375.00   \n",
              "external_data_provider_credit_checks_last_month       2.00       2.00   \n",
              "external_data_provider_email_seen_before             27.00      43.00   \n",
              "external_data_provider_fraud_score                  502.00     747.00   \n",
              "reported_income                                 101,623.00 151,248.00   \n",
              "shipping_zip_code                                33,877.00  44,923.00   \n",
              "\n",
              "                                                         max  \n",
              "score_3                                               990.00  \n",
              "score_4                                               113.98  \n",
              "score_5                                                 1.00  \n",
              "score_6                                               142.19  \n",
              "risk_rate                                               0.90  \n",
              "last_amount_borrowed                              957,204.88  \n",
              "credit_limit                                      448,269.00  \n",
              "income                                          5,000,027.83  \n",
              "n_bankruptcies                                          5.00  \n",
              "n_defaulted_loans                                       5.00  \n",
              "n_accounts                                             49.00  \n",
              "n_issues                                               49.00  \n",
              "application_time_in_funnel                            500.00  \n",
              "external_data_provider_credit_checks_last_month         3.00  \n",
              "external_data_provider_email_seen_before               59.00  \n",
              "external_data_provider_fraud_score                  1,000.00  \n",
              "reported_income                                          inf  \n",
              "shipping_zip_code                                  56,000.00  "
            ],
            "text/html": [
              "\n",
              "  <div id=\"df-4560dd4c-83f9-43fc-8e31-4414c6325af6\">\n",
              "    <div class=\"colab-df-container\">\n",
              "      <div>\n",
              "<style scoped>\n",
              "    .dataframe tbody tr th:only-of-type {\n",
              "        vertical-align: middle;\n",
              "    }\n",
              "\n",
              "    .dataframe tbody tr th {\n",
              "        vertical-align: top;\n",
              "    }\n",
              "\n",
              "    .dataframe thead th {\n",
              "        text-align: right;\n",
              "    }\n",
              "</style>\n",
              "<table border=\"1\" class=\"dataframe\">\n",
              "  <thead>\n",
              "    <tr style=\"text-align: right;\">\n",
              "      <th></th>\n",
              "      <th>count</th>\n",
              "      <th>mean</th>\n",
              "      <th>std</th>\n",
              "      <th>min</th>\n",
              "      <th>25%</th>\n",
              "      <th>50%</th>\n",
              "      <th>75%</th>\n",
              "      <th>max</th>\n",
              "    </tr>\n",
              "  </thead>\n",
              "  <tbody>\n",
              "    <tr>\n",
              "      <th>score_3</th>\n",
              "      <td>41,741.00</td>\n",
              "      <td>346.46</td>\n",
              "      <td>110.10</td>\n",
              "      <td>0.00</td>\n",
              "      <td>270.00</td>\n",
              "      <td>340.00</td>\n",
              "      <td>420.00</td>\n",
              "      <td>990.00</td>\n",
              "    </tr>\n",
              "    <tr>\n",
              "      <th>score_4</th>\n",
              "      <td>41,741.00</td>\n",
              "      <td>100.01</td>\n",
              "      <td>3.18</td>\n",
              "      <td>86.19</td>\n",
              "      <td>97.86</td>\n",
              "      <td>100.02</td>\n",
              "      <td>102.14</td>\n",
              "      <td>113.98</td>\n",
              "    </tr>\n",
              "    <tr>\n",
              "      <th>score_5</th>\n",
              "      <td>41,741.00</td>\n",
              "      <td>0.50</td>\n",
              "      <td>0.29</td>\n",
              "      <td>0.00</td>\n",
              "      <td>0.25</td>\n",
              "      <td>0.50</td>\n",
              "      <td>0.75</td>\n",
              "      <td>1.00</td>\n",
              "    </tr>\n",
              "    <tr>\n",
              "      <th>score_6</th>\n",
              "      <td>41,741.00</td>\n",
              "      <td>99.92</td>\n",
              "      <td>10.02</td>\n",
              "      <td>60.66</td>\n",
              "      <td>93.18</td>\n",
              "      <td>99.98</td>\n",
              "      <td>106.63</td>\n",
              "      <td>142.19</td>\n",
              "    </tr>\n",
              "    <tr>\n",
              "      <th>risk_rate</th>\n",
              "      <td>41,741.00</td>\n",
              "      <td>0.29</td>\n",
              "      <td>0.10</td>\n",
              "      <td>0.00</td>\n",
              "      <td>0.22</td>\n",
              "      <td>0.29</td>\n",
              "      <td>0.36</td>\n",
              "      <td>0.90</td>\n",
              "    </tr>\n",
              "    <tr>\n",
              "      <th>last_amount_borrowed</th>\n",
              "      <td>41,741.00</td>\n",
              "      <td>13,873.76</td>\n",
              "      <td>9,890.49</td>\n",
              "      <td>922.97</td>\n",
              "      <td>8,238.21</td>\n",
              "      <td>12,021.41</td>\n",
              "      <td>17,294.79</td>\n",
              "      <td>957,204.88</td>\n",
              "    </tr>\n",
              "    <tr>\n",
              "      <th>credit_limit</th>\n",
              "      <td>41,741.00</td>\n",
              "      <td>27,116.96</td>\n",
              "      <td>31,914.09</td>\n",
              "      <td>0.00</td>\n",
              "      <td>8,001.16</td>\n",
              "      <td>16,794.00</td>\n",
              "      <td>35,516.00</td>\n",
              "      <td>448,269.00</td>\n",
              "    </tr>\n",
              "    <tr>\n",
              "      <th>income</th>\n",
              "      <td>41,741.00</td>\n",
              "      <td>71,080.12</td>\n",
              "      <td>52,259.78</td>\n",
              "      <td>4,821.18</td>\n",
              "      <td>44,019.58</td>\n",
              "      <td>60,044.09</td>\n",
              "      <td>85,032.89</td>\n",
              "      <td>5,000,027.83</td>\n",
              "    </tr>\n",
              "    <tr>\n",
              "      <th>n_bankruptcies</th>\n",
              "      <td>41,741.00</td>\n",
              "      <td>0.08</td>\n",
              "      <td>0.27</td>\n",
              "      <td>0.00</td>\n",
              "      <td>0.00</td>\n",
              "      <td>0.00</td>\n",
              "      <td>0.00</td>\n",
              "      <td>5.00</td>\n",
              "    </tr>\n",
              "    <tr>\n",
              "      <th>n_defaulted_loans</th>\n",
              "      <td>41,741.00</td>\n",
              "      <td>0.00</td>\n",
              "      <td>0.08</td>\n",
              "      <td>0.00</td>\n",
              "      <td>0.00</td>\n",
              "      <td>0.00</td>\n",
              "      <td>0.00</td>\n",
              "      <td>5.00</td>\n",
              "    </tr>\n",
              "    <tr>\n",
              "      <th>n_accounts</th>\n",
              "      <td>41,741.00</td>\n",
              "      <td>10.64</td>\n",
              "      <td>4.59</td>\n",
              "      <td>0.00</td>\n",
              "      <td>7.00</td>\n",
              "      <td>10.00</td>\n",
              "      <td>13.00</td>\n",
              "      <td>49.00</td>\n",
              "    </tr>\n",
              "    <tr>\n",
              "      <th>n_issues</th>\n",
              "      <td>41,741.00</td>\n",
              "      <td>10.76</td>\n",
              "      <td>3.97</td>\n",
              "      <td>0.00</td>\n",
              "      <td>9.00</td>\n",
              "      <td>10.00</td>\n",
              "      <td>12.00</td>\n",
              "      <td>49.00</td>\n",
              "    </tr>\n",
              "    <tr>\n",
              "      <th>application_time_in_funnel</th>\n",
              "      <td>41,741.00</td>\n",
              "      <td>247.75</td>\n",
              "      <td>146.33</td>\n",
              "      <td>0.00</td>\n",
              "      <td>120.00</td>\n",
              "      <td>248.00</td>\n",
              "      <td>375.00</td>\n",
              "      <td>500.00</td>\n",
              "    </tr>\n",
              "    <tr>\n",
              "      <th>external_data_provider_credit_checks_last_month</th>\n",
              "      <td>41,741.00</td>\n",
              "      <td>1.50</td>\n",
              "      <td>1.11</td>\n",
              "      <td>0.00</td>\n",
              "      <td>1.00</td>\n",
              "      <td>2.00</td>\n",
              "      <td>2.00</td>\n",
              "      <td>3.00</td>\n",
              "    </tr>\n",
              "    <tr>\n",
              "      <th>external_data_provider_email_seen_before</th>\n",
              "      <td>41,741.00</td>\n",
              "      <td>13.44</td>\n",
              "      <td>122.57</td>\n",
              "      <td>-999.00</td>\n",
              "      <td>12.00</td>\n",
              "      <td>27.00</td>\n",
              "      <td>43.00</td>\n",
              "      <td>59.00</td>\n",
              "    </tr>\n",
              "    <tr>\n",
              "      <th>external_data_provider_fraud_score</th>\n",
              "      <td>41,741.00</td>\n",
              "      <td>500.49</td>\n",
              "      <td>287.99</td>\n",
              "      <td>0.00</td>\n",
              "      <td>252.00</td>\n",
              "      <td>502.00</td>\n",
              "      <td>747.00</td>\n",
              "      <td>1,000.00</td>\n",
              "    </tr>\n",
              "    <tr>\n",
              "      <th>reported_income</th>\n",
              "      <td>41,741.00</td>\n",
              "      <td>inf</td>\n",
              "      <td>NaN</td>\n",
              "      <td>403.00</td>\n",
              "      <td>50,910.00</td>\n",
              "      <td>101,623.00</td>\n",
              "      <td>151,248.00</td>\n",
              "      <td>inf</td>\n",
              "    </tr>\n",
              "    <tr>\n",
              "      <th>shipping_zip_code</th>\n",
              "      <td>41,741.00</td>\n",
              "      <td>33,910.86</td>\n",
              "      <td>12,696.43</td>\n",
              "      <td>12,001.00</td>\n",
              "      <td>22,914.00</td>\n",
              "      <td>33,877.00</td>\n",
              "      <td>44,923.00</td>\n",
              "      <td>56,000.00</td>\n",
              "    </tr>\n",
              "  </tbody>\n",
              "</table>\n",
              "</div>\n",
              "      <button class=\"colab-df-convert\" onclick=\"convertToInteractive('df-4560dd4c-83f9-43fc-8e31-4414c6325af6')\"\n",
              "              title=\"Convert this dataframe to an interactive table.\"\n",
              "              style=\"display:none;\">\n",
              "        \n",
              "  <svg xmlns=\"http://www.w3.org/2000/svg\" height=\"24px\"viewBox=\"0 0 24 24\"\n",
              "       width=\"24px\">\n",
              "    <path d=\"M0 0h24v24H0V0z\" fill=\"none\"/>\n",
              "    <path d=\"M18.56 5.44l.94 2.06.94-2.06 2.06-.94-2.06-.94-.94-2.06-.94 2.06-2.06.94zm-11 1L8.5 8.5l.94-2.06 2.06-.94-2.06-.94L8.5 2.5l-.94 2.06-2.06.94zm10 10l.94 2.06.94-2.06 2.06-.94-2.06-.94-.94-2.06-.94 2.06-2.06.94z\"/><path d=\"M17.41 7.96l-1.37-1.37c-.4-.4-.92-.59-1.43-.59-.52 0-1.04.2-1.43.59L10.3 9.45l-7.72 7.72c-.78.78-.78 2.05 0 2.83L4 21.41c.39.39.9.59 1.41.59.51 0 1.02-.2 1.41-.59l7.78-7.78 2.81-2.81c.8-.78.8-2.07 0-2.86zM5.41 20L4 18.59l7.72-7.72 1.47 1.35L5.41 20z\"/>\n",
              "  </svg>\n",
              "      </button>\n",
              "      \n",
              "  <style>\n",
              "    .colab-df-container {\n",
              "      display:flex;\n",
              "      flex-wrap:wrap;\n",
              "      gap: 12px;\n",
              "    }\n",
              "\n",
              "    .colab-df-convert {\n",
              "      background-color: #E8F0FE;\n",
              "      border: none;\n",
              "      border-radius: 50%;\n",
              "      cursor: pointer;\n",
              "      display: none;\n",
              "      fill: #1967D2;\n",
              "      height: 32px;\n",
              "      padding: 0 0 0 0;\n",
              "      width: 32px;\n",
              "    }\n",
              "\n",
              "    .colab-df-convert:hover {\n",
              "      background-color: #E2EBFA;\n",
              "      box-shadow: 0px 1px 2px rgba(60, 64, 67, 0.3), 0px 1px 3px 1px rgba(60, 64, 67, 0.15);\n",
              "      fill: #174EA6;\n",
              "    }\n",
              "\n",
              "    [theme=dark] .colab-df-convert {\n",
              "      background-color: #3B4455;\n",
              "      fill: #D2E3FC;\n",
              "    }\n",
              "\n",
              "    [theme=dark] .colab-df-convert:hover {\n",
              "      background-color: #434B5C;\n",
              "      box-shadow: 0px 1px 3px 1px rgba(0, 0, 0, 0.15);\n",
              "      filter: drop-shadow(0px 1px 2px rgba(0, 0, 0, 0.3));\n",
              "      fill: #FFFFFF;\n",
              "    }\n",
              "  </style>\n",
              "\n",
              "      <script>\n",
              "        const buttonEl =\n",
              "          document.querySelector('#df-4560dd4c-83f9-43fc-8e31-4414c6325af6 button.colab-df-convert');\n",
              "        buttonEl.style.display =\n",
              "          google.colab.kernel.accessAllowed ? 'block' : 'none';\n",
              "\n",
              "        async function convertToInteractive(key) {\n",
              "          const element = document.querySelector('#df-4560dd4c-83f9-43fc-8e31-4414c6325af6');\n",
              "          const dataTable =\n",
              "            await google.colab.kernel.invokeFunction('convertToInteractive',\n",
              "                                                     [key], {});\n",
              "          if (!dataTable) return;\n",
              "\n",
              "          const docLinkHtml = 'Like what you see? Visit the ' +\n",
              "            '<a target=\"_blank\" href=https://colab.research.google.com/notebooks/data_table.ipynb>data table notebook</a>'\n",
              "            + ' to learn more about interactive tables.';\n",
              "          element.innerHTML = '';\n",
              "          dataTable['output_type'] = 'display_data';\n",
              "          await google.colab.output.renderOutput(dataTable, element);\n",
              "          const docLink = document.createElement('div');\n",
              "          docLink.innerHTML = docLinkHtml;\n",
              "          element.appendChild(docLink);\n",
              "        }\n",
              "      </script>\n",
              "    </div>\n",
              "  </div>\n",
              "  "
            ]
          },
          "metadata": {},
          "execution_count": 31
        }
      ]
    },
    {
      "cell_type": "code",
      "source": [
        "numerical_values = list()\n",
        "categorical_values = list()\n",
        "\n",
        "for c in df.columns:\n",
        "  if df[c].dtypes == \"O\" or df[c].dtypes == \"bool\":\n",
        "    categorical_values.append(c)\n",
        "  else:\n",
        "    numerical_values.append(c) "
      ],
      "metadata": {
        "id": "HYwgIZGnRm1D"
      },
      "execution_count": null,
      "outputs": []
    },
    {
      "cell_type": "code",
      "source": [
        "df[numerical_values].describe().T"
      ],
      "metadata": {
        "colab": {
          "base_uri": "https://localhost:8080/",
          "height": 614
        },
        "id": "ucCvpIlyuHz4",
        "outputId": "ee5e8820-9164-465e-8512-8ded6e3086d3"
      },
      "execution_count": null,
      "outputs": [
        {
          "output_type": "execute_result",
          "data": {
            "text/plain": [
              "                                                    count      mean       std  \\\n",
              "score_3                                         41,741.00    346.46    110.10   \n",
              "score_4                                         41,741.00    100.01      3.18   \n",
              "score_5                                         41,741.00      0.50      0.29   \n",
              "score_6                                         41,741.00     99.92     10.02   \n",
              "risk_rate                                       41,741.00      0.29      0.10   \n",
              "last_amount_borrowed                            41,741.00 13,873.76  9,890.49   \n",
              "credit_limit                                    41,741.00 27,116.96 31,914.09   \n",
              "income                                          41,741.00 71,080.12 52,259.78   \n",
              "n_bankruptcies                                  41,741.00      0.08      0.27   \n",
              "n_defaulted_loans                               41,741.00      0.00      0.08   \n",
              "n_accounts                                      41,741.00     10.64      4.59   \n",
              "n_issues                                        41,741.00     10.76      3.97   \n",
              "application_time_in_funnel                      41,741.00    247.75    146.33   \n",
              "external_data_provider_credit_checks_last_month 41,741.00      1.50      1.11   \n",
              "external_data_provider_email_seen_before        41,741.00     13.44    122.57   \n",
              "external_data_provider_fraud_score              41,741.00    500.49    287.99   \n",
              "reported_income                                 41,741.00       inf       NaN   \n",
              "shipping_zip_code                               41,741.00 33,910.86 12,696.43   \n",
              "\n",
              "                                                      min       25%  \\\n",
              "score_3                                              0.00    270.00   \n",
              "score_4                                             86.19     97.86   \n",
              "score_5                                              0.00      0.25   \n",
              "score_6                                             60.66     93.18   \n",
              "risk_rate                                            0.00      0.22   \n",
              "last_amount_borrowed                               922.97  8,238.21   \n",
              "credit_limit                                         0.00  8,001.16   \n",
              "income                                           4,821.18 44,019.58   \n",
              "n_bankruptcies                                       0.00      0.00   \n",
              "n_defaulted_loans                                    0.00      0.00   \n",
              "n_accounts                                           0.00      7.00   \n",
              "n_issues                                             0.00      9.00   \n",
              "application_time_in_funnel                           0.00    120.00   \n",
              "external_data_provider_credit_checks_last_month      0.00      1.00   \n",
              "external_data_provider_email_seen_before          -999.00     12.00   \n",
              "external_data_provider_fraud_score                   0.00    252.00   \n",
              "reported_income                                    403.00 50,910.00   \n",
              "shipping_zip_code                               12,001.00 22,914.00   \n",
              "\n",
              "                                                       50%        75%  \\\n",
              "score_3                                             340.00     420.00   \n",
              "score_4                                             100.02     102.14   \n",
              "score_5                                               0.50       0.75   \n",
              "score_6                                              99.98     106.63   \n",
              "risk_rate                                             0.29       0.36   \n",
              "last_amount_borrowed                             12,021.41  17,294.79   \n",
              "credit_limit                                     16,794.00  35,516.00   \n",
              "income                                           60,044.09  85,032.89   \n",
              "n_bankruptcies                                        0.00       0.00   \n",
              "n_defaulted_loans                                     0.00       0.00   \n",
              "n_accounts                                           10.00      13.00   \n",
              "n_issues                                             10.00      12.00   \n",
              "application_time_in_funnel                          248.00     375.00   \n",
              "external_data_provider_credit_checks_last_month       2.00       2.00   \n",
              "external_data_provider_email_seen_before             27.00      43.00   \n",
              "external_data_provider_fraud_score                  502.00     747.00   \n",
              "reported_income                                 101,623.00 151,248.00   \n",
              "shipping_zip_code                                33,877.00  44,923.00   \n",
              "\n",
              "                                                         max  \n",
              "score_3                                               990.00  \n",
              "score_4                                               113.98  \n",
              "score_5                                                 1.00  \n",
              "score_6                                               142.19  \n",
              "risk_rate                                               0.90  \n",
              "last_amount_borrowed                              957,204.88  \n",
              "credit_limit                                      448,269.00  \n",
              "income                                          5,000,027.83  \n",
              "n_bankruptcies                                          5.00  \n",
              "n_defaulted_loans                                       5.00  \n",
              "n_accounts                                             49.00  \n",
              "n_issues                                               49.00  \n",
              "application_time_in_funnel                            500.00  \n",
              "external_data_provider_credit_checks_last_month         3.00  \n",
              "external_data_provider_email_seen_before               59.00  \n",
              "external_data_provider_fraud_score                  1,000.00  \n",
              "reported_income                                          inf  \n",
              "shipping_zip_code                                  56,000.00  "
            ],
            "text/html": [
              "\n",
              "  <div id=\"df-fd875843-cc25-4fe8-9fd5-62672045b68c\">\n",
              "    <div class=\"colab-df-container\">\n",
              "      <div>\n",
              "<style scoped>\n",
              "    .dataframe tbody tr th:only-of-type {\n",
              "        vertical-align: middle;\n",
              "    }\n",
              "\n",
              "    .dataframe tbody tr th {\n",
              "        vertical-align: top;\n",
              "    }\n",
              "\n",
              "    .dataframe thead th {\n",
              "        text-align: right;\n",
              "    }\n",
              "</style>\n",
              "<table border=\"1\" class=\"dataframe\">\n",
              "  <thead>\n",
              "    <tr style=\"text-align: right;\">\n",
              "      <th></th>\n",
              "      <th>count</th>\n",
              "      <th>mean</th>\n",
              "      <th>std</th>\n",
              "      <th>min</th>\n",
              "      <th>25%</th>\n",
              "      <th>50%</th>\n",
              "      <th>75%</th>\n",
              "      <th>max</th>\n",
              "    </tr>\n",
              "  </thead>\n",
              "  <tbody>\n",
              "    <tr>\n",
              "      <th>score_3</th>\n",
              "      <td>41,741.00</td>\n",
              "      <td>346.46</td>\n",
              "      <td>110.10</td>\n",
              "      <td>0.00</td>\n",
              "      <td>270.00</td>\n",
              "      <td>340.00</td>\n",
              "      <td>420.00</td>\n",
              "      <td>990.00</td>\n",
              "    </tr>\n",
              "    <tr>\n",
              "      <th>score_4</th>\n",
              "      <td>41,741.00</td>\n",
              "      <td>100.01</td>\n",
              "      <td>3.18</td>\n",
              "      <td>86.19</td>\n",
              "      <td>97.86</td>\n",
              "      <td>100.02</td>\n",
              "      <td>102.14</td>\n",
              "      <td>113.98</td>\n",
              "    </tr>\n",
              "    <tr>\n",
              "      <th>score_5</th>\n",
              "      <td>41,741.00</td>\n",
              "      <td>0.50</td>\n",
              "      <td>0.29</td>\n",
              "      <td>0.00</td>\n",
              "      <td>0.25</td>\n",
              "      <td>0.50</td>\n",
              "      <td>0.75</td>\n",
              "      <td>1.00</td>\n",
              "    </tr>\n",
              "    <tr>\n",
              "      <th>score_6</th>\n",
              "      <td>41,741.00</td>\n",
              "      <td>99.92</td>\n",
              "      <td>10.02</td>\n",
              "      <td>60.66</td>\n",
              "      <td>93.18</td>\n",
              "      <td>99.98</td>\n",
              "      <td>106.63</td>\n",
              "      <td>142.19</td>\n",
              "    </tr>\n",
              "    <tr>\n",
              "      <th>risk_rate</th>\n",
              "      <td>41,741.00</td>\n",
              "      <td>0.29</td>\n",
              "      <td>0.10</td>\n",
              "      <td>0.00</td>\n",
              "      <td>0.22</td>\n",
              "      <td>0.29</td>\n",
              "      <td>0.36</td>\n",
              "      <td>0.90</td>\n",
              "    </tr>\n",
              "    <tr>\n",
              "      <th>last_amount_borrowed</th>\n",
              "      <td>41,741.00</td>\n",
              "      <td>13,873.76</td>\n",
              "      <td>9,890.49</td>\n",
              "      <td>922.97</td>\n",
              "      <td>8,238.21</td>\n",
              "      <td>12,021.41</td>\n",
              "      <td>17,294.79</td>\n",
              "      <td>957,204.88</td>\n",
              "    </tr>\n",
              "    <tr>\n",
              "      <th>credit_limit</th>\n",
              "      <td>41,741.00</td>\n",
              "      <td>27,116.96</td>\n",
              "      <td>31,914.09</td>\n",
              "      <td>0.00</td>\n",
              "      <td>8,001.16</td>\n",
              "      <td>16,794.00</td>\n",
              "      <td>35,516.00</td>\n",
              "      <td>448,269.00</td>\n",
              "    </tr>\n",
              "    <tr>\n",
              "      <th>income</th>\n",
              "      <td>41,741.00</td>\n",
              "      <td>71,080.12</td>\n",
              "      <td>52,259.78</td>\n",
              "      <td>4,821.18</td>\n",
              "      <td>44,019.58</td>\n",
              "      <td>60,044.09</td>\n",
              "      <td>85,032.89</td>\n",
              "      <td>5,000,027.83</td>\n",
              "    </tr>\n",
              "    <tr>\n",
              "      <th>n_bankruptcies</th>\n",
              "      <td>41,741.00</td>\n",
              "      <td>0.08</td>\n",
              "      <td>0.27</td>\n",
              "      <td>0.00</td>\n",
              "      <td>0.00</td>\n",
              "      <td>0.00</td>\n",
              "      <td>0.00</td>\n",
              "      <td>5.00</td>\n",
              "    </tr>\n",
              "    <tr>\n",
              "      <th>n_defaulted_loans</th>\n",
              "      <td>41,741.00</td>\n",
              "      <td>0.00</td>\n",
              "      <td>0.08</td>\n",
              "      <td>0.00</td>\n",
              "      <td>0.00</td>\n",
              "      <td>0.00</td>\n",
              "      <td>0.00</td>\n",
              "      <td>5.00</td>\n",
              "    </tr>\n",
              "    <tr>\n",
              "      <th>n_accounts</th>\n",
              "      <td>41,741.00</td>\n",
              "      <td>10.64</td>\n",
              "      <td>4.59</td>\n",
              "      <td>0.00</td>\n",
              "      <td>7.00</td>\n",
              "      <td>10.00</td>\n",
              "      <td>13.00</td>\n",
              "      <td>49.00</td>\n",
              "    </tr>\n",
              "    <tr>\n",
              "      <th>n_issues</th>\n",
              "      <td>41,741.00</td>\n",
              "      <td>10.76</td>\n",
              "      <td>3.97</td>\n",
              "      <td>0.00</td>\n",
              "      <td>9.00</td>\n",
              "      <td>10.00</td>\n",
              "      <td>12.00</td>\n",
              "      <td>49.00</td>\n",
              "    </tr>\n",
              "    <tr>\n",
              "      <th>application_time_in_funnel</th>\n",
              "      <td>41,741.00</td>\n",
              "      <td>247.75</td>\n",
              "      <td>146.33</td>\n",
              "      <td>0.00</td>\n",
              "      <td>120.00</td>\n",
              "      <td>248.00</td>\n",
              "      <td>375.00</td>\n",
              "      <td>500.00</td>\n",
              "    </tr>\n",
              "    <tr>\n",
              "      <th>external_data_provider_credit_checks_last_month</th>\n",
              "      <td>41,741.00</td>\n",
              "      <td>1.50</td>\n",
              "      <td>1.11</td>\n",
              "      <td>0.00</td>\n",
              "      <td>1.00</td>\n",
              "      <td>2.00</td>\n",
              "      <td>2.00</td>\n",
              "      <td>3.00</td>\n",
              "    </tr>\n",
              "    <tr>\n",
              "      <th>external_data_provider_email_seen_before</th>\n",
              "      <td>41,741.00</td>\n",
              "      <td>13.44</td>\n",
              "      <td>122.57</td>\n",
              "      <td>-999.00</td>\n",
              "      <td>12.00</td>\n",
              "      <td>27.00</td>\n",
              "      <td>43.00</td>\n",
              "      <td>59.00</td>\n",
              "    </tr>\n",
              "    <tr>\n",
              "      <th>external_data_provider_fraud_score</th>\n",
              "      <td>41,741.00</td>\n",
              "      <td>500.49</td>\n",
              "      <td>287.99</td>\n",
              "      <td>0.00</td>\n",
              "      <td>252.00</td>\n",
              "      <td>502.00</td>\n",
              "      <td>747.00</td>\n",
              "      <td>1,000.00</td>\n",
              "    </tr>\n",
              "    <tr>\n",
              "      <th>reported_income</th>\n",
              "      <td>41,741.00</td>\n",
              "      <td>inf</td>\n",
              "      <td>NaN</td>\n",
              "      <td>403.00</td>\n",
              "      <td>50,910.00</td>\n",
              "      <td>101,623.00</td>\n",
              "      <td>151,248.00</td>\n",
              "      <td>inf</td>\n",
              "    </tr>\n",
              "    <tr>\n",
              "      <th>shipping_zip_code</th>\n",
              "      <td>41,741.00</td>\n",
              "      <td>33,910.86</td>\n",
              "      <td>12,696.43</td>\n",
              "      <td>12,001.00</td>\n",
              "      <td>22,914.00</td>\n",
              "      <td>33,877.00</td>\n",
              "      <td>44,923.00</td>\n",
              "      <td>56,000.00</td>\n",
              "    </tr>\n",
              "  </tbody>\n",
              "</table>\n",
              "</div>\n",
              "      <button class=\"colab-df-convert\" onclick=\"convertToInteractive('df-fd875843-cc25-4fe8-9fd5-62672045b68c')\"\n",
              "              title=\"Convert this dataframe to an interactive table.\"\n",
              "              style=\"display:none;\">\n",
              "        \n",
              "  <svg xmlns=\"http://www.w3.org/2000/svg\" height=\"24px\"viewBox=\"0 0 24 24\"\n",
              "       width=\"24px\">\n",
              "    <path d=\"M0 0h24v24H0V0z\" fill=\"none\"/>\n",
              "    <path d=\"M18.56 5.44l.94 2.06.94-2.06 2.06-.94-2.06-.94-.94-2.06-.94 2.06-2.06.94zm-11 1L8.5 8.5l.94-2.06 2.06-.94-2.06-.94L8.5 2.5l-.94 2.06-2.06.94zm10 10l.94 2.06.94-2.06 2.06-.94-2.06-.94-.94-2.06-.94 2.06-2.06.94z\"/><path d=\"M17.41 7.96l-1.37-1.37c-.4-.4-.92-.59-1.43-.59-.52 0-1.04.2-1.43.59L10.3 9.45l-7.72 7.72c-.78.78-.78 2.05 0 2.83L4 21.41c.39.39.9.59 1.41.59.51 0 1.02-.2 1.41-.59l7.78-7.78 2.81-2.81c.8-.78.8-2.07 0-2.86zM5.41 20L4 18.59l7.72-7.72 1.47 1.35L5.41 20z\"/>\n",
              "  </svg>\n",
              "      </button>\n",
              "      \n",
              "  <style>\n",
              "    .colab-df-container {\n",
              "      display:flex;\n",
              "      flex-wrap:wrap;\n",
              "      gap: 12px;\n",
              "    }\n",
              "\n",
              "    .colab-df-convert {\n",
              "      background-color: #E8F0FE;\n",
              "      border: none;\n",
              "      border-radius: 50%;\n",
              "      cursor: pointer;\n",
              "      display: none;\n",
              "      fill: #1967D2;\n",
              "      height: 32px;\n",
              "      padding: 0 0 0 0;\n",
              "      width: 32px;\n",
              "    }\n",
              "\n",
              "    .colab-df-convert:hover {\n",
              "      background-color: #E2EBFA;\n",
              "      box-shadow: 0px 1px 2px rgba(60, 64, 67, 0.3), 0px 1px 3px 1px rgba(60, 64, 67, 0.15);\n",
              "      fill: #174EA6;\n",
              "    }\n",
              "\n",
              "    [theme=dark] .colab-df-convert {\n",
              "      background-color: #3B4455;\n",
              "      fill: #D2E3FC;\n",
              "    }\n",
              "\n",
              "    [theme=dark] .colab-df-convert:hover {\n",
              "      background-color: #434B5C;\n",
              "      box-shadow: 0px 1px 3px 1px rgba(0, 0, 0, 0.15);\n",
              "      filter: drop-shadow(0px 1px 2px rgba(0, 0, 0, 0.3));\n",
              "      fill: #FFFFFF;\n",
              "    }\n",
              "  </style>\n",
              "\n",
              "      <script>\n",
              "        const buttonEl =\n",
              "          document.querySelector('#df-fd875843-cc25-4fe8-9fd5-62672045b68c button.colab-df-convert');\n",
              "        buttonEl.style.display =\n",
              "          google.colab.kernel.accessAllowed ? 'block' : 'none';\n",
              "\n",
              "        async function convertToInteractive(key) {\n",
              "          const element = document.querySelector('#df-fd875843-cc25-4fe8-9fd5-62672045b68c');\n",
              "          const dataTable =\n",
              "            await google.colab.kernel.invokeFunction('convertToInteractive',\n",
              "                                                     [key], {});\n",
              "          if (!dataTable) return;\n",
              "\n",
              "          const docLinkHtml = 'Like what you see? Visit the ' +\n",
              "            '<a target=\"_blank\" href=https://colab.research.google.com/notebooks/data_table.ipynb>data table notebook</a>'\n",
              "            + ' to learn more about interactive tables.';\n",
              "          element.innerHTML = '';\n",
              "          dataTable['output_type'] = 'display_data';\n",
              "          await google.colab.output.renderOutput(dataTable, element);\n",
              "          const docLink = document.createElement('div');\n",
              "          docLink.innerHTML = docLinkHtml;\n",
              "          element.appendChild(docLink);\n",
              "        }\n",
              "      </script>\n",
              "    </div>\n",
              "  </div>\n",
              "  "
            ]
          },
          "metadata": {},
          "execution_count": 33
        }
      ]
    },
    {
      "cell_type": "code",
      "source": [
        "print(f\"\"\"número de infinitos: {df.loc[df[\"reported_income\"] == float('inf')].shape[0]}\"\"\")"
      ],
      "metadata": {
        "colab": {
          "base_uri": "https://localhost:8080/"
        },
        "id": "Q0bbmie6u-uU",
        "outputId": "361246c1-4525-4405-b614-5f1e40c11565"
      },
      "execution_count": null,
      "outputs": [
        {
          "output_type": "stream",
          "name": "stdout",
          "text": [
            "número de infinitos: 66\n"
          ]
        }
      ]
    },
    {
      "cell_type": "code",
      "source": [
        "inf_income = df.loc[(df[\"reported_income\"] == float(\"inf\"))].index\n",
        "\n",
        "df.drop(axis=0, index=inf_income, inplace=True)"
      ],
      "metadata": {
        "id": "0yfCdyD9GbLt"
      },
      "execution_count": null,
      "outputs": []
    },
    {
      "cell_type": "code",
      "source": [
        "fig = plt.figure(figsize=(30,15))\n",
        "\n",
        "plt.subplots_adjust(hspace=0.6)\n",
        "plt.suptitle(\"ANÁLISE DE HISTOGRAMA - VARIÁVEIS NUMÉRICAS\", size = 30)\n",
        "\n",
        "for i, c in enumerate(numerical_values):\n",
        "  globals()[f\"ax{i+1}\"] = fig.add_subplot(5, 4, i+1)\n",
        "  globals()[f\"ax{i+1}\"].set_title(c, weight=\"bold\", size=13)\n",
        "  globals()[f\"ax{i+1}\"].hist(df[c], bins=20)\n",
        "\n",
        "plt.show();"
      ],
      "metadata": {
        "colab": {
          "base_uri": "https://localhost:8080/",
          "height": 964
        },
        "id": "ytCGlFWQlOSu",
        "outputId": "4f3ca108-677d-4e9f-e7d4-c84daf7c3fdc"
      },
      "execution_count": null,
      "outputs": [
        {
          "output_type": "display_data",
          "data": {
            "text/plain": [
              "<Figure size 2160x1080 with 18 Axes>"
            ],
            "image/png": "[encoded data removed]"
          },
          "metadata": {
            "needs_background": "light"
          }
        }
      ]
    },
    {
      "cell_type": "code",
      "source": [
        "fig = plt.figure(figsize=(30,15))\n",
        "\n",
        "plt.subplots_adjust(hspace=0.6)\n",
        "plt.suptitle(\"ANÁLISE DE BOXPLOT - VARIÁVEIS NUMÉRICAS\", size = 30)\n",
        "\n",
        "for i, c in enumerate(numerical_values):\n",
        "  globals()[f\"ax{i+1}\"] = fig.add_subplot(5, 4, i+1)\n",
        "  globals()[f\"ax{i+1}\"].set_title(c, weight=\"bold\", size=13)\n",
        "  globals()[f\"ax{i+1}\"].boxplot(df[c], vert=False)\n",
        "\n",
        "plt.show();"
      ],
      "metadata": {
        "colab": {
          "base_uri": "https://localhost:8080/",
          "height": 978
        },
        "id": "FAeeaZsd3SEe",
        "outputId": "219f862f-60f6-4a54-8e5f-ace84c573cc8"
      },
      "execution_count": null,
      "outputs": [
        {
          "output_type": "display_data",
          "data": {
            "text/plain": [
              "<Figure size 2160x1080 with 18 Axes>"
            ],
            "image/png": "[encoded data removed]"
          },
          "metadata": {
            "needs_background": "light"
          }
        }
      ]
    },
    {
      "cell_type": "markdown",
      "source": [
        "#### **TRATAMENTO REPORTED_INCOME**\n",
        "\n",
        "**DELETAR OUTLIERS:**\n",
        "\n",
        "* valores muito discrepantes com a possível realidade.\n",
        "* poucos valores existentes na base, não comprometendo o volume de dados.\n",
        "* valores excluídos concentrados em variáveis categóricas que possuem maior quantidade no dataset."
      ],
      "metadata": {
        "id": "XZMZaOluLIZX"
      }
    },
    {
      "cell_type": "code",
      "source": [
        "rep_inc_treated = df.loc[(df[\"reported_income\"] >= 1000000)]\n",
        "i = 0\n",
        "\n",
        "fig = plt.figure(figsize=(30,15))\n",
        "plt.subplots_adjust(hspace=0.6, wspace= 0.3)\n",
        "\n",
        "for c in categorical_values:\n",
        "  i += 1\n",
        "  if c == 'lat_lon' or c == 'application_time_applied':\n",
        "    i += -1\n",
        "    pass\n",
        "  else:\n",
        "    globals()[f\"ax{i}\"] = fig.add_subplot(4, 3, i)\n",
        "    sns.countplot(x=c, data=rep_inc_treated, ax=globals()[f\"ax{i}\"])\n",
        "    globals()[f\"ax{i}\"].tick_params(labelrotation=45, axis='x')\n",
        "    globals()[f\"ax{i}\"].set_xlabel(c, size=13)\n",
        "\n",
        "\n",
        "plt.show();"
      ],
      "metadata": {
        "colab": {
          "base_uri": "https://localhost:8080/",
          "height": 481
        },
        "id": "jR6mi7eUCo_b",
        "outputId": "3bbdd403-c041-4124-8fd9-c78ef1e31d3a"
      },
      "execution_count": null,
      "outputs": [
        {
          "output_type": "display_data",
          "data": {
            "text/plain": [
              "<Figure size 2160x1080 with 6 Axes>"
            ],
            "image/png": "[encoded data removed]"
          },
          "metadata": {
            "needs_background": "light"
          }
        }
      ]
    },
    {
      "cell_type": "code",
      "source": [
        "df_ex_out = df.copy()\n",
        "\n",
        "out_income = df.loc[(df[\"reported_income\"] > 1300000)].index\n",
        "\n",
        "df_ex_out.drop(axis=0, index=out_income, inplace=True)"
      ],
      "metadata": {
        "id": "gnwix3q5alEb"
      },
      "execution_count": null,
      "outputs": []
    },
    {
      "cell_type": "markdown",
      "source": [
        "#### **TRATAMENTO EXTERNAL_DATA_PROVIDER_EMAIL_SEEN_BEFORE**\n",
        "\n",
        "**DELETAR OUTLIERS:**\n",
        "\n",
        "* valores muito discrepantes com a possível realidade.\n",
        "* poucos valores existentes na base, não comprometendo o volume de dados.\n",
        "* valores excluídos concentrados em variáveis categóricas que possuem maior quantidade no dataset."
      ],
      "metadata": {
        "id": "Ss1XBgO0buuE"
      }
    },
    {
      "cell_type": "code",
      "source": [
        "df_ex_out.external_data_provider_email_seen_before.loc[df_ex_out.external_data_provider_email_seen_before < 0].value_counts()"
      ],
      "metadata": {
        "colab": {
          "base_uri": "https://localhost:8080/"
        },
        "id": "rNZ_yda4cR8b",
        "outputId": "a8f0e77f-1d99-4754-93d0-07d4a0652a16"
      },
      "execution_count": null,
      "outputs": [
        {
          "output_type": "execute_result",
          "data": {
            "text/plain": [
              "-1.00      596\n",
              "-999.00    588\n",
              "Name: external_data_provider_email_seen_before, dtype: int64"
            ]
          },
          "metadata": {},
          "execution_count": 40
        }
      ]
    },
    {
      "cell_type": "code",
      "source": [
        "rep_ext_data_treated = df_ex_out.loc[df_ex_out.external_data_provider_email_seen_before < 0]\n",
        "i = 0\n",
        "\n",
        "fig = plt.figure(figsize=(30,15))\n",
        "plt.subplots_adjust(hspace=0.6, wspace= 0.3)\n",
        "\n",
        "for c in categorical_values:\n",
        "  i += 1\n",
        "  if c == 'lat_lon' or c=='application_time_applied':\n",
        "    i += -1\n",
        "    pass\n",
        "  else:\n",
        "    globals()[f\"ax{i}\"] = fig.add_subplot(4,3, i)\n",
        "    sns.countplot(x=c, data=rep_ext_data_treated, ax=globals()[f\"ax{i}\"])\n",
        "    globals()[f\"ax{i}\"].tick_params(labelrotation=45, axis='x')\n",
        "    globals()[f\"ax{i}\"].set_xlabel(c, size=13)\n",
        "\n",
        "\n",
        "plt.show();"
      ],
      "metadata": {
        "colab": {
          "base_uri": "https://localhost:8080/",
          "height": 478
        },
        "id": "5TgjIRcfrITH",
        "outputId": "00a14111-3439-497a-c122-eadace530ed0"
      },
      "execution_count": null,
      "outputs": [
        {
          "output_type": "display_data",
          "data": {
            "text/plain": [
              "<Figure size 2160x1080 with 6 Axes>"
            ],
            "image/png": "[encoded data removed]"
          },
          "metadata": {
            "needs_background": "light"
          }
        }
      ]
    },
    {
      "cell_type": "code",
      "source": [
        "out_ext_data = df_ex_out.loc[(df[\"external_data_provider_email_seen_before\"] < 0) ].index\n",
        "\n",
        "df_ex_out.drop(axis=0, index=out_ext_data, inplace=True)"
      ],
      "metadata": {
        "id": "Uaumgzigc0CW"
      },
      "execution_count": null,
      "outputs": []
    },
    {
      "cell_type": "code",
      "source": [
        "df.shape"
      ],
      "metadata": {
        "colab": {
          "base_uri": "https://localhost:8080/"
        },
        "id": "9Wqg2XXddDP6",
        "outputId": "b638ae03-ef61-40ae-8de2-cfad83460ab1"
      },
      "execution_count": null,
      "outputs": [
        {
          "output_type": "execute_result",
          "data": {
            "text/plain": [
              "(41675, 26)"
            ]
          },
          "metadata": {},
          "execution_count": 43
        }
      ]
    },
    {
      "cell_type": "code",
      "source": [
        "df_ex_out.shape"
      ],
      "metadata": {
        "colab": {
          "base_uri": "https://localhost:8080/"
        },
        "id": "nRmdiMtEeFQO",
        "outputId": "b5ba15b3-47fa-4f4b-fa6b-ffa75a7a71b0"
      },
      "execution_count": null,
      "outputs": [
        {
          "output_type": "execute_result",
          "data": {
            "text/plain": [
              "(40296, 26)"
            ]
          },
          "metadata": {},
          "execution_count": 44
        }
      ]
    },
    {
      "cell_type": "markdown",
      "source": [
        "## **FEATURE ENGINEERING**\n",
        "\n",
        "* A variável \"application_time_applied\" foi tratada, a fim de se tornar mais explicativa ao modelo e mais generalista na previsão da variável target."
      ],
      "metadata": {
        "id": "KUhkTL-EIEXr"
      }
    },
    {
      "cell_type": "code",
      "source": [
        "df_ex_out.application_time_applied.sort_values()"
      ],
      "metadata": {
        "colab": {
          "base_uri": "https://localhost:8080/"
        },
        "id": "izf0nfGrIa16",
        "outputId": "767df13b-2ac4-4e9c-ee7a-520922701a81"
      },
      "execution_count": null,
      "outputs": [
        {
          "output_type": "execute_result",
          "data": {
            "text/plain": [
              "2938     00:00:02\n",
              "42029    00:00:06\n",
              "26459    00:00:10\n",
              "10933    00:00:15\n",
              "19325    00:00:16\n",
              "           ...   \n",
              "4631     24:60:49\n",
              "23232    24:60:51\n",
              "3070     24:60:55\n",
              "18070    24:60:57\n",
              "19121    24:60:58\n",
              "Name: application_time_applied, Length: 40296, dtype: object"
            ]
          },
          "metadata": {},
          "execution_count": 45
        }
      ]
    },
    {
      "cell_type": "markdown",
      "source": [
        "* Separamos a \"string\" pelos dois pontos \":\" e selecionamos os primeiros valores que vão de 0 à 24."
      ],
      "metadata": {
        "id": "V5MQhCuXVlbA"
      }
    },
    {
      "cell_type": "code",
      "source": [
        "df_ex_out[\"application_time_applied\"] = df_ex_out.application_time_applied.str.split(\":\", n=1, expand=True)[:][0]\n",
        "\n",
        "df_ex_out['application_time_applied'] = df_ex_out['application_time_applied'].astype(int)"
      ],
      "metadata": {
        "id": "kEbGv9QaPRTx"
      },
      "execution_count": null,
      "outputs": []
    },
    {
      "cell_type": "markdown",
      "source": [
        "* Agrupamos a variável transformada pela variável target e criamos um DataFrame para analisar graficamente se existe algum padrão de comportamento entre a nova \"application_time_applied\" e a variável target \"TRUE\", referente ao default do cliente."
      ],
      "metadata": {
        "id": "EjLFm84CWEi7"
      }
    },
    {
      "cell_type": "code",
      "source": [
        "df_grouped = df_ex_out.groupby([\"application_time_applied\", \"target_default\"])[\"target_default\"].count().unstack()\n",
        "\n",
        "app_dict = dict()\n",
        "\n",
        "app_dict[\"False\"] = df_grouped[False].to_list()\n",
        "app_dict[\"True\"] = df_grouped[True].to_list()"
      ],
      "metadata": {
        "id": "8C0J1Q9FYrUs"
      },
      "execution_count": null,
      "outputs": []
    },
    {
      "cell_type": "code",
      "source": [
        "app_grouped = pd.DataFrame(data=app_dict, index=df_grouped.index)"
      ],
      "metadata": {
        "id": "DWpycZtcSTbu"
      },
      "execution_count": null,
      "outputs": []
    },
    {
      "cell_type": "code",
      "source": [
        "fig, ax = plt.subplots(figsize=(10, 8))\n",
        "\n",
        "area = ((app_grouped[\"True\"])**1/2)*5\n",
        "\n",
        "ax.scatter(x=app_grouped[\"True\"], y=app_grouped.index, s=area,  alpha=0.5, color=['red'])\n",
        "ax.set_title(\"APPLICATION TIME X TARGET DEFAULT - TRUE\", size=20)\n",
        "ax.set_xlabel(\"Count - True\", size=12)\n",
        "ax.set_ylabel(\"Application Time\", size=12)\n",
        "\n",
        "plt.show()"
      ],
      "metadata": {
        "colab": {
          "base_uri": "https://localhost:8080/",
          "height": 521
        },
        "id": "VnZ_GvYNXAQU",
        "outputId": "563dca2f-34bc-43f3-ce12-1b67cdb685fb"
      },
      "execution_count": null,
      "outputs": [
        {
          "output_type": "display_data",
          "data": {
            "text/plain": [
              "<Figure size 720x576 with 1 Axes>"
            ],
            "image/png": "[encoded data removed]"
          },
          "metadata": {
            "needs_background": "light"
          }
        }
      ]
    },
    {
      "cell_type": "markdown",
      "source": [
        "* Percebeu-se que a maior quantidade de valores \"TRUE\" ocorreram entre os intervalos de 0 a 6 da nova variável transformada.\n",
        "\n",
        "* Entendido isso, retratamos a coluna, para maior generalização e otimização dos processos, segregando as variáveis em blocos de 6.\n",
        "\n",
        "* Criaram-se os valores \"6\", \"12\", \"18\" e \"24\"."
      ],
      "metadata": {
        "id": "GypUaEWXWfqI"
      }
    },
    {
      "cell_type": "code",
      "source": [
        "conditions = [\n",
        "              df_ex_out[\"application_time_applied\"] <= 6,\n",
        "              df_ex_out[\"application_time_applied\"] <= 12,\n",
        "              df_ex_out[\"application_time_applied\"] <= 18,\n",
        "              df_ex_out[\"application_time_applied\"] <= 24,\n",
        "]\n",
        "\n",
        "choices = [\n",
        "           \"6\",\n",
        "           \"12\",\n",
        "           \"18\",\n",
        "           \"24\"           \n",
        "]\n",
        "\n",
        "df_ex_out[\"application_time_applied\"] = np.select(conditions, choices, default=\">25\")"
      ],
      "metadata": {
        "id": "klUcNHsCi8B5"
      },
      "execution_count": null,
      "outputs": []
    },
    {
      "cell_type": "markdown",
      "source": [
        "## **ANÁLISE DE BALANCEAMENTO DE DADOS**\n",
        "\n",
        "**INSIGHT DOS DADOS:**\n",
        "\n",
        "* target_default: maior presença de não ocorrência de default.\n",
        "* facebook_profile: maior presença de não ocorrência de perfil.\n",
        "* application_time_applied: maior presença de ocorrência da variável \"6\".\n",
        "* email: maior presença de 'gmail'.\n",
        "* external_data_provider_credit_checks_last_year: maior presença da variável \"1\".\n",
        "* marketing_channel: maior presença da variável 'website'.\n",
        "* shipping_state: maior presença da variável \"SP\".\n",
        "\n",
        "**OBS:**  a estrutura de balanceamento das variáveis categóricas não foi comprometida após eliminação dos outliers."
      ],
      "metadata": {
        "id": "0Kus8sWuYXeY"
      }
    },
    {
      "cell_type": "code",
      "source": [
        "i = 0\n",
        "\n",
        "fig = plt.figure(figsize=(30,15))\n",
        "plt.subplots_adjust(hspace=0.6, wspace= 0.3)\n",
        "plt.suptitle(\"ANÁLISE DE BALANCEAMENTO PÓS TRATAMENTOS - VARIÁVEIS CATEGÓRICAS\", size = 30)\n",
        "\n",
        "for c in categorical_values:\n",
        "  i += 1\n",
        "  if c == 'lat_lon':\n",
        "    i += -1\n",
        "    pass\n",
        "  else:\n",
        "    globals()[f\"ax{i}\"] = fig.add_subplot(4,3, i)\n",
        "    sns.countplot(x=c, data=df_ex_out, ax=globals()[f\"ax{i}\"])\n",
        "    globals()[f\"ax{i}\"].tick_params(labelrotation=45, axis='x')\n",
        "    globals()[f\"ax{i}\"].set_xlabel(c, size=13)\n",
        "\n",
        "\n",
        "plt.show();"
      ],
      "metadata": {
        "colab": {
          "base_uri": "https://localhost:8080/",
          "height": 750
        },
        "id": "xQXC71bacll8",
        "outputId": "525efe7c-e4a3-48ee-f6e0-45f8363a9af4"
      },
      "execution_count": null,
      "outputs": [
        {
          "output_type": "display_data",
          "data": {
            "text/plain": [
              "<Figure size 2160x1080 with 7 Axes>"
            ],
            "image/png": "[encoded data removed]"
          },
          "metadata": {
            "needs_background": "light"
          }
        }
      ]
    },
    {
      "cell_type": "markdown",
      "source": [
        "## **SEPARAÇÃO, PADRONIZAÇÃO E BALANCEAMENTO DAS VARIÁVEIS**\n",
        "\n",
        "* As variáveis foram padronizadas para comparar a regressão logística com os demais modelos de árvores de decisão.\n",
        "\n",
        "* O balanceamento da variável target foi feito via a técnica SMOTE."
      ],
      "metadata": {
        "id": "YWm_fErkpZHn"
      }
    },
    {
      "cell_type": "code",
      "source": [
        "#deletar coluna lat_lon.\n",
        "\n",
        "df_ex_out.drop(columns=['lat_lon'], inplace=True)"
      ],
      "metadata": {
        "id": "_dJH9k1nfK4V"
      },
      "execution_count": null,
      "outputs": []
    },
    {
      "cell_type": "code",
      "source": [
        "#separação entre as variáveis X e y.\n",
        "\n",
        "X = df_ex_out.drop(columns=\"target_default\")\n",
        "y = df_ex_out['target_default']"
      ],
      "metadata": {
        "id": "OyxN_Kbwgf1V"
      },
      "execution_count": null,
      "outputs": []
    },
    {
      "cell_type": "code",
      "source": [
        "#one-hot encoding.\n",
        "\n",
        "columns_objects = list()\n",
        "\n",
        "for i, c in enumerate(X.dtypes):\n",
        "  if c == \"object\" or c==\"bool\":\n",
        "    columns_objects.append(X.dtypes.index[i])\n",
        "\n",
        "X_encoded = pd.get_dummies(X, columns=columns_objects)"
      ],
      "metadata": {
        "id": "cLeH99z9iGbV"
      },
      "execution_count": null,
      "outputs": []
    },
    {
      "cell_type": "code",
      "source": [
        "#transformação da variável target em binária.\n",
        "\n",
        "y_encoded = pd.Series(np.where(y.values==True, 1, 0))"
      ],
      "metadata": {
        "id": "OhMbzf5PkPu5"
      },
      "execution_count": null,
      "outputs": []
    },
    {
      "cell_type": "code",
      "source": [
        "#separação dos datasets treino e teste.\n",
        "\n",
        "X_train, X_test, y_train, y_test = train_test_split(X_encoded, y_encoded, random_state=42, test_size=0.15, stratify=y)"
      ],
      "metadata": {
        "id": "BFHcdmP2oyLH"
      },
      "execution_count": null,
      "outputs": []
    },
    {
      "cell_type": "code",
      "source": [
        "print(X_train.shape)\n",
        "print(X_test.shape)\n",
        "print(y_train.shape)\n",
        "print(y_test.shape)"
      ],
      "metadata": {
        "id": "aqNEblCRdCeW",
        "colab": {
          "base_uri": "https://localhost:8080/"
        },
        "outputId": "7b4b1a22-7ec4-459c-9082-b14661c5a6c6"
      },
      "execution_count": null,
      "outputs": [
        {
          "output_type": "stream",
          "name": "stdout",
          "text": [
            "(34251, 64)\n",
            "(6045, 64)\n",
            "(34251,)\n",
            "(6045,)\n"
          ]
        }
      ]
    },
    {
      "cell_type": "code",
      "source": [
        "#padronização das variáveis do dataset de treino treino.\n",
        "\n",
        "scaler = StandardScaler().fit(X_train)\n",
        "X_train = scaler.transform(X_train)\n",
        "X_train = pd.DataFrame(X_train,columns = X_encoded.columns)"
      ],
      "metadata": {
        "id": "Wkr4iJiZk762"
      },
      "execution_count": null,
      "outputs": []
    },
    {
      "cell_type": "markdown",
      "source": [
        "#### **SMOTE - Synthetic Minority Oversampling Technique**\n",
        "\n",
        "* O SMOTE é uma técnica de oversampling que funciona selecionando exemplos próximos no espaço das features.\n",
        "\n",
        "* Mais specificamente, um exemplo aleatório da classe minoritária é escolhido primeiro. Então, \"K\" dos vizinhos mais próximos para esse exemplo são encontrados (tipicamente K=5). \n",
        "\n",
        "* Um vizinho selecionado aleatoriamente é escolhido e um exemplo sintético é criado em um ponto selecionado aleatoriamente entre os dois exemplos no espaço de features."
      ],
      "metadata": {
        "id": "uTkY6yvASH3I"
      }
    },
    {
      "cell_type": "code",
      "source": [
        "#balanceamento pela técnica SMOTE.\n",
        "\n",
        "sm = SMOTE(random_state=42)\n",
        "X_res, y_res = sm.fit_resample(X_train, y_train)"
      ],
      "metadata": {
        "id": "CN4PelyzoiCk"
      },
      "execution_count": null,
      "outputs": []
    },
    {
      "cell_type": "code",
      "source": [
        "print(X_res.shape)\n",
        "print(y_res.shape)"
      ],
      "metadata": {
        "colab": {
          "base_uri": "https://localhost:8080/"
        },
        "id": "0jsBVThJmgQ3",
        "outputId": "96d184f9-eabc-4365-869e-f4d03e52195f"
      },
      "execution_count": null,
      "outputs": [
        {
          "output_type": "stream",
          "name": "stdout",
          "text": [
            "(57504, 64)\n",
            "(57504,)\n"
          ]
        }
      ]
    },
    {
      "cell_type": "code",
      "source": [
        "fig, ax = plt.subplots()\n",
        "\n",
        "sns.countplot(y_res, ax=ax)\n",
        "ax.set_title(\"Rebalanceamento da variável target\", size=15)\n",
        "\n",
        "plt.show();"
      ],
      "metadata": {
        "colab": {
          "base_uri": "https://localhost:8080/",
          "height": 284
        },
        "id": "qLQJhwi1mwIn",
        "outputId": "8273ea35-cf53-4e06-f601-57de26e17632"
      },
      "execution_count": null,
      "outputs": [
        {
          "output_type": "display_data",
          "data": {
            "text/plain": [
              "<Figure size 432x288 with 1 Axes>"
            ],
            "image/png": "[encoded data removed]"
          },
          "metadata": {
            "needs_background": "light"
          }
        }
      ]
    },
    {
      "cell_type": "markdown",
      "source": [
        "## **COMPARAÇÃO DE MODELOS**\n",
        "\n",
        "Foram escolhidos quatro modelos de previsão de variáveis categóricas:\n",
        "\n",
        "* Random Forest\n",
        "* Decision Tree\n",
        "* Logistic Regression\n",
        "* XGBoost"
      ],
      "metadata": {
        "id": "_zypKcBo6fyf"
      }
    },
    {
      "cell_type": "code",
      "source": [
        "def val_model(X, y, clf, quite=False):\n",
        "\n",
        "  X = np.array(X)\n",
        "  y = np.array(y)\n",
        "\n",
        "  pipeline = make_pipeline(StandardScaler(), clf)\n",
        "  scores = cross_val_score(pipeline, X, y, cv=3, scoring='recall')\n",
        "\n",
        "  if quite == False:\n",
        "    print(\"Recall: {:.2f} (+/- {:.2f})\".format(scores.mean(), scores.std()))\n",
        "    \n",
        "  return scores.mean()"
      ],
      "metadata": {
        "id": "7Ar9oNyTm_Qy"
      },
      "execution_count": null,
      "outputs": []
    },
    {
      "cell_type": "markdown",
      "source": [
        "#### **ESCOLHA DO MODELO E MÉTRICA UTILIZADA**\n",
        "\n",
        "* A métrica escolhida para comparação de modelos foi a \"Recall\". Queremos dar ênfase aos acertos da variável \"1\", representativa do default. Logo, esta seria a melhor métrica para tal.\n",
        "\n",
        "* O modelo escolhido foi o XGBoost, pelo seus valores estarem próximos dos demais modelos e por ser mais robusto em termos de otimização de hiperparâmetros e prevenção de overfitting."
      ],
      "metadata": {
        "id": "NfSUXIXETg7I"
      }
    },
    {
      "cell_type": "code",
      "source": [
        "rf = RandomForestClassifier()\n",
        "dt = DecisionTreeClassifier()\n",
        "lr = LogisticRegression()\n",
        "xgb = XGBClassifier()\n",
        "\n",
        "model = []\n",
        "recall = []\n",
        "  \n",
        "for clf in (rf, dt, lr, xgb):\n",
        "  model.append(clf.__class__.__name__)\n",
        "  recall.append(val_model(X_res, y_res, clf, quite=True))\n",
        "\n",
        "pd.DataFrame(data=recall, index=model, columns=['Recall'])"
      ],
      "metadata": {
        "colab": {
          "base_uri": "https://localhost:8080/",
          "height": 174
        },
        "id": "2iFGd1DFq-Yi",
        "outputId": "17fce190-1b8e-4ade-fe9f-240e17896fe8"
      },
      "execution_count": null,
      "outputs": [
        {
          "output_type": "execute_result",
          "data": {
            "text/plain": [
              "                        Recall\n",
              "RandomForestClassifier    0.83\n",
              "DecisionTreeClassifier    0.80\n",
              "LogisticRegression        0.73\n",
              "XGBClassifier             0.78"
            ],
            "text/html": [
              "\n",
              "  <div id=\"df-a7820072-8e58-4713-b86e-39baf1bd839d\">\n",
              "    <div class=\"colab-df-container\">\n",
              "      <div>\n",
              "<style scoped>\n",
              "    .dataframe tbody tr th:only-of-type {\n",
              "        vertical-align: middle;\n",
              "    }\n",
              "\n",
              "    .dataframe tbody tr th {\n",
              "        vertical-align: top;\n",
              "    }\n",
              "\n",
              "    .dataframe thead th {\n",
              "        text-align: right;\n",
              "    }\n",
              "</style>\n",
              "<table border=\"1\" class=\"dataframe\">\n",
              "  <thead>\n",
              "    <tr style=\"text-align: right;\">\n",
              "      <th></th>\n",
              "      <th>Recall</th>\n",
              "    </tr>\n",
              "  </thead>\n",
              "  <tbody>\n",
              "    <tr>\n",
              "      <th>RandomForestClassifier</th>\n",
              "      <td>0.83</td>\n",
              "    </tr>\n",
              "    <tr>\n",
              "      <th>DecisionTreeClassifier</th>\n",
              "      <td>0.80</td>\n",
              "    </tr>\n",
              "    <tr>\n",
              "      <th>LogisticRegression</th>\n",
              "      <td>0.73</td>\n",
              "    </tr>\n",
              "    <tr>\n",
              "      <th>XGBClassifier</th>\n",
              "      <td>0.78</td>\n",
              "    </tr>\n",
              "  </tbody>\n",
              "</table>\n",
              "</div>\n",
              "      <button class=\"colab-df-convert\" onclick=\"convertToInteractive('df-a7820072-8e58-4713-b86e-39baf1bd839d')\"\n",
              "              title=\"Convert this dataframe to an interactive table.\"\n",
              "              style=\"display:none;\">\n",
              "        \n",
              "  <svg xmlns=\"http://www.w3.org/2000/svg\" height=\"24px\"viewBox=\"0 0 24 24\"\n",
              "       width=\"24px\">\n",
              "    <path d=\"M0 0h24v24H0V0z\" fill=\"none\"/>\n",
              "    <path d=\"M18.56 5.44l.94 2.06.94-2.06 2.06-.94-2.06-.94-.94-2.06-.94 2.06-2.06.94zm-11 1L8.5 8.5l.94-2.06 2.06-.94-2.06-.94L8.5 2.5l-.94 2.06-2.06.94zm10 10l.94 2.06.94-2.06 2.06-.94-2.06-.94-.94-2.06-.94 2.06-2.06.94z\"/><path d=\"M17.41 7.96l-1.37-1.37c-.4-.4-.92-.59-1.43-.59-.52 0-1.04.2-1.43.59L10.3 9.45l-7.72 7.72c-.78.78-.78 2.05 0 2.83L4 21.41c.39.39.9.59 1.41.59.51 0 1.02-.2 1.41-.59l7.78-7.78 2.81-2.81c.8-.78.8-2.07 0-2.86zM5.41 20L4 18.59l7.72-7.72 1.47 1.35L5.41 20z\"/>\n",
              "  </svg>\n",
              "      </button>\n",
              "      \n",
              "  <style>\n",
              "    .colab-df-container {\n",
              "      display:flex;\n",
              "      flex-wrap:wrap;\n",
              "      gap: 12px;\n",
              "    }\n",
              "\n",
              "    .colab-df-convert {\n",
              "      background-color: #E8F0FE;\n",
              "      border: none;\n",
              "      border-radius: 50%;\n",
              "      cursor: pointer;\n",
              "      display: none;\n",
              "      fill: #1967D2;\n",
              "      height: 32px;\n",
              "      padding: 0 0 0 0;\n",
              "      width: 32px;\n",
              "    }\n",
              "\n",
              "    .colab-df-convert:hover {\n",
              "      background-color: #E2EBFA;\n",
              "      box-shadow: 0px 1px 2px rgba(60, 64, 67, 0.3), 0px 1px 3px 1px rgba(60, 64, 67, 0.15);\n",
              "      fill: #174EA6;\n",
              "    }\n",
              "\n",
              "    [theme=dark] .colab-df-convert {\n",
              "      background-color: #3B4455;\n",
              "      fill: #D2E3FC;\n",
              "    }\n",
              "\n",
              "    [theme=dark] .colab-df-convert:hover {\n",
              "      background-color: #434B5C;\n",
              "      box-shadow: 0px 1px 3px 1px rgba(0, 0, 0, 0.15);\n",
              "      filter: drop-shadow(0px 1px 2px rgba(0, 0, 0, 0.3));\n",
              "      fill: #FFFFFF;\n",
              "    }\n",
              "  </style>\n",
              "\n",
              "      <script>\n",
              "        const buttonEl =\n",
              "          document.querySelector('#df-a7820072-8e58-4713-b86e-39baf1bd839d button.colab-df-convert');\n",
              "        buttonEl.style.display =\n",
              "          google.colab.kernel.accessAllowed ? 'block' : 'none';\n",
              "\n",
              "        async function convertToInteractive(key) {\n",
              "          const element = document.querySelector('#df-a7820072-8e58-4713-b86e-39baf1bd839d');\n",
              "          const dataTable =\n",
              "            await google.colab.kernel.invokeFunction('convertToInteractive',\n",
              "                                                     [key], {});\n",
              "          if (!dataTable) return;\n",
              "\n",
              "          const docLinkHtml = 'Like what you see? Visit the ' +\n",
              "            '<a target=\"_blank\" href=https://colab.research.google.com/notebooks/data_table.ipynb>data table notebook</a>'\n",
              "            + ' to learn more about interactive tables.';\n",
              "          element.innerHTML = '';\n",
              "          dataTable['output_type'] = 'display_data';\n",
              "          await google.colab.output.renderOutput(dataTable, element);\n",
              "          const docLink = document.createElement('div');\n",
              "          docLink.innerHTML = docLinkHtml;\n",
              "          element.appendChild(docLink);\n",
              "        }\n",
              "      </script>\n",
              "    </div>\n",
              "  </div>\n",
              "  "
            ]
          },
          "metadata": {},
          "execution_count": 64
        }
      ]
    },
    {
      "cell_type": "markdown",
      "source": [
        "## **MODELO - XGBOOST**\n",
        "\n",
        "* Sem a otimização de hiperparâmetros, o modelo se mostrou bastante robusto ao classificar os clientes que não deram default.\n",
        "\n",
        "* No entanto, para a classificação da variável 1 o modelo não se mostrou eficiente."
      ],
      "metadata": {
        "id": "yw95_Ex7rv8E"
      }
    },
    {
      "cell_type": "code",
      "source": [
        "X_test = scaler.transform(X_test)\n",
        "X_test = pd.DataFrame(X_test, columns = X_encoded.columns)"
      ],
      "metadata": {
        "id": "qvvbTs7zkFkR"
      },
      "execution_count": null,
      "outputs": []
    },
    {
      "cell_type": "code",
      "source": [
        "xgb.fit(X_res, y_res)"
      ],
      "metadata": {
        "colab": {
          "base_uri": "https://localhost:8080/"
        },
        "id": "djr12cKd6wWm",
        "outputId": "82cdc9af-791a-48d3-d934-9accfc77695c"
      },
      "execution_count": null,
      "outputs": [
        {
          "output_type": "execute_result",
          "data": {
            "text/plain": [
              "XGBClassifier()"
            ]
          },
          "metadata": {},
          "execution_count": 66
        }
      ]
    },
    {
      "cell_type": "code",
      "source": [
        "y_pred = xgb.predict(X_test)"
      ],
      "metadata": {
        "id": "YZkyiSm8pXRd"
      },
      "execution_count": null,
      "outputs": []
    },
    {
      "cell_type": "code",
      "source": [
        "print(classification_report(y_test, y_pred))\n",
        "\n",
        "print(\"AUC: {:.4f}\\n\".format(roc_auc_score(y_test, y_pred)))\n",
        "\n",
        "# plotar matriz de confusão\n",
        "plot_confusion_matrix(xgb, X_test, y_test)\n",
        "\n",
        "plt.show()"
      ],
      "metadata": {
        "id": "Df9RYvdap2hD",
        "colab": {
          "base_uri": "https://localhost:8080/",
          "height": 469
        },
        "outputId": "1bb59a72-1722-4ea0-db60-11ba9a8d63e0"
      },
      "execution_count": null,
      "outputs": [
        {
          "output_type": "stream",
          "name": "stdout",
          "text": [
            "              precision    recall  f1-score   support\n",
            "\n",
            "           0       0.88      0.97      0.92      5075\n",
            "           1       0.68      0.31      0.43       970\n",
            "\n",
            "    accuracy                           0.87      6045\n",
            "   macro avg       0.78      0.64      0.68      6045\n",
            "weighted avg       0.85      0.87      0.84      6045\n",
            "\n",
            "AUC: 0.6427\n",
            "\n"
          ]
        },
        {
          "output_type": "display_data",
          "data": {
            "text/plain": [
              "<Figure size 432x288 with 2 Axes>"
            ],
            "image/png": "[encoded data removed]"
          },
          "metadata": {
            "needs_background": "light"
          }
        }
      ]
    },
    {
      "cell_type": "markdown",
      "source": [
        "#### **FEATURE SELECTION**\n",
        "\n",
        "* Foi feito uma análise das principais features que explicam o modelo.\n",
        "\n",
        "* A seleção para um modelo de árvore de decisão é feita a partir do nível de impureza das folhas de classificação,em relação às variáveis.\n",
        "\n",
        "* As variáveis que geram o maior nível de impureza são consideradas as menos explicativas para o modelo.\n",
        "\n",
        "**TRATAMENTO**:\n",
        "\n",
        "* Eliminação das variáveis que possuem grau explicativo menor do que 0.02 (média), a fim de otimizar os treinos com os hiperparâmetros e verificar se existe uma melhora nas previsões, visto que estamos eliminando variáveis com muitas impurezas.\n",
        "\n"
      ],
      "metadata": {
        "id": "6ISEictwUvP6"
      }
    },
    {
      "cell_type": "code",
      "source": [
        "feat_importances = pd.DataFrame(xgb.feature_importances_, index=X_res.columns, columns=[\"importance\"])\n",
        "feat_importances.sort_values(by='importance', inplace=True)"
      ],
      "metadata": {
        "id": "ffU6mdI3kQE5"
      },
      "execution_count": null,
      "outputs": []
    },
    {
      "cell_type": "code",
      "source": [
        "fig, ax = plt.subplots(figsize=(15,10))\n",
        "\n",
        "ax.barh(feat_importances.importance.loc[feat_importances.importance != 0].index, feat_importances.importance.loc[feat_importances.importance != 0])\n",
        "\n",
        "plt.show()"
      ],
      "metadata": {
        "id": "S8vU_ML7dWHz",
        "colab": {
          "base_uri": "https://localhost:8080/",
          "height": 592
        },
        "outputId": "c4c7b1c6-e49b-412d-ad64-831f72e3dfe5"
      },
      "execution_count": null,
      "outputs": [
        {
          "output_type": "display_data",
          "data": {
            "text/plain": [
              "<Figure size 1080x720 with 1 Axes>"
            ],
            "image/png": "[encoded data removed]"
          },
          "metadata": {
            "needs_background": "light"
          }
        }
      ]
    },
    {
      "cell_type": "code",
      "source": [
        "feat_importances.describe().T"
      ],
      "metadata": {
        "id": "AGPsk88rsQPL",
        "colab": {
          "base_uri": "https://localhost:8080/",
          "height": 81
        },
        "outputId": "16c39bbf-541a-4e4a-f106-e4920b507f24"
      },
      "execution_count": null,
      "outputs": [
        {
          "output_type": "execute_result",
          "data": {
            "text/plain": [
              "            count  mean  std  min  25%  50%  75%  max\n",
              "importance  64.00  0.02 0.03 0.00 0.00 0.00 0.02 0.11"
            ],
            "text/html": [
              "\n",
              "  <div id=\"df-04611d58-75f5-4559-82a5-8a680108802d\">\n",
              "    <div class=\"colab-df-container\">\n",
              "      <div>\n",
              "<style scoped>\n",
              "    .dataframe tbody tr th:only-of-type {\n",
              "        vertical-align: middle;\n",
              "    }\n",
              "\n",
              "    .dataframe tbody tr th {\n",
              "        vertical-align: top;\n",
              "    }\n",
              "\n",
              "    .dataframe thead th {\n",
              "        text-align: right;\n",
              "    }\n",
              "</style>\n",
              "<table border=\"1\" class=\"dataframe\">\n",
              "  <thead>\n",
              "    <tr style=\"text-align: right;\">\n",
              "      <th></th>\n",
              "      <th>count</th>\n",
              "      <th>mean</th>\n",
              "      <th>std</th>\n",
              "      <th>min</th>\n",
              "      <th>25%</th>\n",
              "      <th>50%</th>\n",
              "      <th>75%</th>\n",
              "      <th>max</th>\n",
              "    </tr>\n",
              "  </thead>\n",
              "  <tbody>\n",
              "    <tr>\n",
              "      <th>importance</th>\n",
              "      <td>64.00</td>\n",
              "      <td>0.02</td>\n",
              "      <td>0.03</td>\n",
              "      <td>0.00</td>\n",
              "      <td>0.00</td>\n",
              "      <td>0.00</td>\n",
              "      <td>0.02</td>\n",
              "      <td>0.11</td>\n",
              "    </tr>\n",
              "  </tbody>\n",
              "</table>\n",
              "</div>\n",
              "      <button class=\"colab-df-convert\" onclick=\"convertToInteractive('df-04611d58-75f5-4559-82a5-8a680108802d')\"\n",
              "              title=\"Convert this dataframe to an interactive table.\"\n",
              "              style=\"display:none;\">\n",
              "        \n",
              "  <svg xmlns=\"http://www.w3.org/2000/svg\" height=\"24px\"viewBox=\"0 0 24 24\"\n",
              "       width=\"24px\">\n",
              "    <path d=\"M0 0h24v24H0V0z\" fill=\"none\"/>\n",
              "    <path d=\"M18.56 5.44l.94 2.06.94-2.06 2.06-.94-2.06-.94-.94-2.06-.94 2.06-2.06.94zm-11 1L8.5 8.5l.94-2.06 2.06-.94-2.06-.94L8.5 2.5l-.94 2.06-2.06.94zm10 10l.94 2.06.94-2.06 2.06-.94-2.06-.94-.94-2.06-.94 2.06-2.06.94z\"/><path d=\"M17.41 7.96l-1.37-1.37c-.4-.4-.92-.59-1.43-.59-.52 0-1.04.2-1.43.59L10.3 9.45l-7.72 7.72c-.78.78-.78 2.05 0 2.83L4 21.41c.39.39.9.59 1.41.59.51 0 1.02-.2 1.41-.59l7.78-7.78 2.81-2.81c.8-.78.8-2.07 0-2.86zM5.41 20L4 18.59l7.72-7.72 1.47 1.35L5.41 20z\"/>\n",
              "  </svg>\n",
              "      </button>\n",
              "      \n",
              "  <style>\n",
              "    .colab-df-container {\n",
              "      display:flex;\n",
              "      flex-wrap:wrap;\n",
              "      gap: 12px;\n",
              "    }\n",
              "\n",
              "    .colab-df-convert {\n",
              "      background-color: #E8F0FE;\n",
              "      border: none;\n",
              "      border-radius: 50%;\n",
              "      cursor: pointer;\n",
              "      display: none;\n",
              "      fill: #1967D2;\n",
              "      height: 32px;\n",
              "      padding: 0 0 0 0;\n",
              "      width: 32px;\n",
              "    }\n",
              "\n",
              "    .colab-df-convert:hover {\n",
              "      background-color: #E2EBFA;\n",
              "      box-shadow: 0px 1px 2px rgba(60, 64, 67, 0.3), 0px 1px 3px 1px rgba(60, 64, 67, 0.15);\n",
              "      fill: #174EA6;\n",
              "    }\n",
              "\n",
              "    [theme=dark] .colab-df-convert {\n",
              "      background-color: #3B4455;\n",
              "      fill: #D2E3FC;\n",
              "    }\n",
              "\n",
              "    [theme=dark] .colab-df-convert:hover {\n",
              "      background-color: #434B5C;\n",
              "      box-shadow: 0px 1px 3px 1px rgba(0, 0, 0, 0.15);\n",
              "      filter: drop-shadow(0px 1px 2px rgba(0, 0, 0, 0.3));\n",
              "      fill: #FFFFFF;\n",
              "    }\n",
              "  </style>\n",
              "\n",
              "      <script>\n",
              "        const buttonEl =\n",
              "          document.querySelector('#df-04611d58-75f5-4559-82a5-8a680108802d button.colab-df-convert');\n",
              "        buttonEl.style.display =\n",
              "          google.colab.kernel.accessAllowed ? 'block' : 'none';\n",
              "\n",
              "        async function convertToInteractive(key) {\n",
              "          const element = document.querySelector('#df-04611d58-75f5-4559-82a5-8a680108802d');\n",
              "          const dataTable =\n",
              "            await google.colab.kernel.invokeFunction('convertToInteractive',\n",
              "                                                     [key], {});\n",
              "          if (!dataTable) return;\n",
              "\n",
              "          const docLinkHtml = 'Like what you see? Visit the ' +\n",
              "            '<a target=\"_blank\" href=https://colab.research.google.com/notebooks/data_table.ipynb>data table notebook</a>'\n",
              "            + ' to learn more about interactive tables.';\n",
              "          element.innerHTML = '';\n",
              "          dataTable['output_type'] = 'display_data';\n",
              "          await google.colab.output.renderOutput(dataTable, element);\n",
              "          const docLink = document.createElement('div');\n",
              "          docLink.innerHTML = docLinkHtml;\n",
              "          element.appendChild(docLink);\n",
              "        }\n",
              "      </script>\n",
              "    </div>\n",
              "  </div>\n",
              "  "
            ]
          },
          "metadata": {},
          "execution_count": 71
        }
      ]
    },
    {
      "cell_type": "code",
      "source": [
        "X_res_feat = X_res.copy()\n",
        "X_test_feat = X_test.copy()"
      ],
      "metadata": {
        "id": "6odKSisFs5e6"
      },
      "execution_count": null,
      "outputs": []
    },
    {
      "cell_type": "code",
      "source": [
        "feat_elimination = feat_importances.loc[feat_importances.importance<=0.02].index.to_list()"
      ],
      "metadata": {
        "id": "AjgX5A7xrbqE"
      },
      "execution_count": null,
      "outputs": []
    },
    {
      "cell_type": "code",
      "source": [
        "X_res_feat.drop(columns=feat_elimination, inplace=True)\n",
        "X_test_feat.drop(columns=feat_elimination, inplace=True)"
      ],
      "metadata": {
        "id": "IsevVPOfu2Ih"
      },
      "execution_count": null,
      "outputs": []
    },
    {
      "cell_type": "code",
      "source": [
        "xgb.fit(X_res_feat, y_res)"
      ],
      "metadata": {
        "id": "c6CrVghNu2WN",
        "colab": {
          "base_uri": "https://localhost:8080/"
        },
        "outputId": "fbeeff79-67bc-4179-8a6c-3cff6ae77554"
      },
      "execution_count": null,
      "outputs": [
        {
          "output_type": "execute_result",
          "data": {
            "text/plain": [
              "XGBClassifier(seed=42)"
            ]
          },
          "metadata": {},
          "execution_count": 75
        }
      ]
    },
    {
      "cell_type": "code",
      "source": [
        "y_pred = xgb.predict(X_test_feat)"
      ],
      "metadata": {
        "id": "4j1__bYzu2WO"
      },
      "execution_count": null,
      "outputs": []
    },
    {
      "cell_type": "markdown",
      "source": [
        "* As eliminações das variáveis geraram uma melhora na classificação da variável \"1\".\n",
        "\n",
        "* Ainda assim, o nível de \"Recall\" para essa variável é baixo, necessitando, portanto, uma otimização dos hiperparâmetros para generalizar os nossos resultados, prevenindo \"overfitting\" e melhorando as previsões."
      ],
      "metadata": {
        "id": "oQCqGQoJZwg2"
      }
    },
    {
      "cell_type": "code",
      "source": [
        "print(classification_report(y_test, y_pred))\n",
        "\n",
        "print(\"AUC: {:.4f}\\n\".format(roc_auc_score(y_test, y_pred)))\n",
        "\n",
        "plot_confusion_matrix(xgb, X_test_feat, y_test)\n",
        "\n",
        "plt.show()"
      ],
      "metadata": {
        "id": "9bGtLUsHu2WO",
        "colab": {
          "base_uri": "https://localhost:8080/",
          "height": 469
        },
        "outputId": "10b1cb57-3e88-4b15-85f3-f0f36fdad510"
      },
      "execution_count": null,
      "outputs": [
        {
          "output_type": "stream",
          "name": "stdout",
          "text": [
            "              precision    recall  f1-score   support\n",
            "\n",
            "           0       0.89      0.97      0.93      5075\n",
            "           1       0.68      0.35      0.46       970\n",
            "\n",
            "    accuracy                           0.87      6045\n",
            "   macro avg       0.78      0.66      0.69      6045\n",
            "weighted avg       0.85      0.87      0.85      6045\n",
            "\n",
            "AUC: 0.6596\n",
            "\n"
          ]
        },
        {
          "output_type": "display_data",
          "data": {
            "text/plain": [
              "<Figure size 432x288 with 2 Axes>"
            ],
            "image/png": "[encoded data removed]"
          },
          "metadata": {
            "needs_background": "light"
          }
        }
      ]
    },
    {
      "cell_type": "markdown",
      "source": [
        "#### **OTIMIZAÇÃO DE HIPERPARÂMETROS**"
      ],
      "metadata": {
        "id": "885tkealhU53"
      }
    },
    {
      "cell_type": "code",
      "source": [
        "xgb = XGBClassifier(objective='binary:logistic', seed=42, missing=None)\n",
        "\n",
        "param_grid = {\n",
        " 'n_estimators':range(0,400,50),\n",
        " 'learning_rate':[0.001,0.01,0.1,0.3]\n",
        "}\n",
        "\n",
        "kfold = StratifiedKFold(n_splits=3, shuffle=True)\n",
        "grid_search = GridSearchCV(xgb, param_grid, scoring=\"recall\", n_jobs=-1, cv=kfold)\n",
        "grid_result = grid_search.fit(X_res_feat, y_res)\n",
        "\n",
        "print(\"Melhor: {} para {}\".format(grid_result.best_score_, grid_result.best_params_))"
      ],
      "metadata": {
        "id": "dLxb1FWpzUfI",
        "colab": {
          "base_uri": "https://localhost:8080/"
        },
        "outputId": "98b2b5ce-ce47-4797-ee91-7f56b840223d"
      },
      "execution_count": null,
      "outputs": [
        {
          "output_type": "stream",
          "name": "stdout",
          "text": [
            "Melhor: 0.9408041179744018 para {'learning_rate': 0.3, 'n_estimators': 350}\n"
          ]
        }
      ]
    },
    {
      "cell_type": "code",
      "source": [
        "xgb = XGBClassifier(objective='binary:logistic', n_estimators=350, learning_rate=0.3, seed=42, missing=None)\n",
        "\n",
        "xgb.fit(X_res_feat,\n",
        "        y_res,\n",
        "        verbose=True)\n",
        "\n",
        "y_pred = xgb.predict(X_test_feat)\n",
        "\n",
        "print(classification_report(y_test, y_pred))\n",
        "\n",
        "print(\"AUC: {:.4f}\\n\".format(roc_auc_score(y_test, y_pred)))\n",
        "\n",
        "plot_confusion_matrix(xgb, X_test_feat, y_test)\n",
        "\n",
        "plt.show()"
      ],
      "metadata": {
        "id": "5q-ZUW8aCenx",
        "colab": {
          "base_uri": "https://localhost:8080/",
          "height": 469
        },
        "outputId": "65681d7a-370a-4962-b6d4-4261b39c744e"
      },
      "execution_count": null,
      "outputs": [
        {
          "output_type": "stream",
          "name": "stdout",
          "text": [
            "              precision    recall  f1-score   support\n",
            "\n",
            "           0       0.95      0.98      0.96      5075\n",
            "           1       0.86      0.71      0.78       970\n",
            "\n",
            "    accuracy                           0.93      6045\n",
            "   macro avg       0.90      0.84      0.87      6045\n",
            "weighted avg       0.93      0.93      0.93      6045\n",
            "\n",
            "AUC: 0.8425\n",
            "\n"
          ]
        },
        {
          "output_type": "display_data",
          "data": {
            "text/plain": [
              "<Figure size 432x288 with 2 Axes>"
            ],
            "image/png": "[encoded data removed]"
          },
          "metadata": {
            "needs_background": "light"
          }
        }
      ]
    },
    {
      "cell_type": "code",
      "source": [
        "xgb = XGBClassifier(objective='binary:logistic', n_estimators=350, learning_rate=0.3, seed=42, missing=None)\n",
        "\n",
        "param_grid = {\n",
        " \"max_depth\": range(1,10,3),\n",
        " \"min_child_weight\": range(1,5,2)\n",
        "}\n",
        "\n",
        "kfold = StratifiedKFold(n_splits=3, shuffle=True)\n",
        "grid_search = GridSearchCV(xgb, param_grid, scoring=\"recall\", n_jobs=-1, cv=kfold)\n",
        "grid_result = grid_search.fit(X_res_feat, y_res)\n",
        "\n",
        "print(\"Melhor: {} para {}\".format(grid_result.best_score_, grid_result.best_params_))"
      ],
      "metadata": {
        "id": "JNYUH9XAsTEz",
        "colab": {
          "base_uri": "https://localhost:8080/"
        },
        "outputId": "7729c6b2-07f5-447f-bd8b-f9095e5a0a43"
      },
      "execution_count": null,
      "outputs": [
        {
          "output_type": "stream",
          "name": "stdout",
          "text": [
            "Melhor: 0.9499860879243182 para {'max_depth': 7, 'min_child_weight': 1}\n"
          ]
        }
      ]
    },
    {
      "cell_type": "code",
      "source": [
        "xgb = XGBClassifier(objective='binary:logistic', n_estimators=350, learning_rate=0.3, max_depth=7, min_child_weight=1, seed=42, missing=None)\n",
        "\n",
        "xgb.fit(X_res_feat,\n",
        "        y_res,\n",
        "        verbose=True)\n",
        "\n",
        "y_pred = xgb.predict(X_test_feat)\n",
        "\n",
        "print(classification_report(y_test, y_pred))\n",
        "\n",
        "print(\"AUC: {:.4f}\\n\".format(roc_auc_score(y_test, y_pred)))\n",
        "\n",
        "plot_confusion_matrix(xgb, X_test_feat, y_test)\n",
        "\n",
        "plt.show()"
      ],
      "metadata": {
        "id": "JaZgh2Z3EYVL",
        "colab": {
          "base_uri": "https://localhost:8080/",
          "height": 469
        },
        "outputId": "8407affc-5293-4652-9045-44bfc87dc0e9"
      },
      "execution_count": null,
      "outputs": [
        {
          "output_type": "stream",
          "name": "stdout",
          "text": [
            "              precision    recall  f1-score   support\n",
            "\n",
            "           0       0.95      0.98      0.97      5075\n",
            "           1       0.88      0.74      0.80       970\n",
            "\n",
            "    accuracy                           0.94      6045\n",
            "   macro avg       0.91      0.86      0.88      6045\n",
            "weighted avg       0.94      0.94      0.94      6045\n",
            "\n",
            "AUC: 0.8603\n",
            "\n"
          ]
        },
        {
          "output_type": "display_data",
          "data": {
            "text/plain": [
              "<Figure size 432x288 with 2 Axes>"
            ],
            "image/png": "[encoded data removed]"
          },
          "metadata": {
            "needs_background": "light"
          }
        }
      ]
    },
    {
      "cell_type": "code",
      "source": [
        "xgb = XGBClassifier(objective='binary:logistic', n_estimators=350, learning_rate=0.3, max_depth=7, min_child_weight=1, seed=42, missing=None)\n",
        "\n",
        "param_grid = {\n",
        " 'gamma':[i/10.0 for i in range(1,5)]\n",
        "}\n",
        "\n",
        "kfold = StratifiedKFold(n_splits=3, shuffle=True)\n",
        "grid_search = GridSearchCV(xgb, param_grid, scoring=\"recall\", n_jobs=-1, cv=kfold)\n",
        "grid_result = grid_search.fit(X_res_feat, y_res)\n",
        "\n",
        "print(\"Melhor: {} para {}\".format(grid_result.best_score_, grid_result.best_params_))"
      ],
      "metadata": {
        "id": "EOMSbbW42Wtw",
        "colab": {
          "base_uri": "https://localhost:8080/"
        },
        "outputId": "cfd3fd43-0ef2-416f-8f93-33b9634d1ec6"
      },
      "execution_count": null,
      "outputs": [
        {
          "output_type": "stream",
          "name": "stdout",
          "text": [
            "Melhor: 0.9511686143572621 para {'gamma': 0.1}\n"
          ]
        }
      ]
    },
    {
      "cell_type": "code",
      "source": [
        "xgb = XGBClassifier(objective='binary:logistic', n_estimators=350, learning_rate=0.3, max_depth=7, min_child_weight=1, gamma=0.1, seed=42, missing=None)\n",
        "\n",
        "xgb.fit(X_res_feat,\n",
        "        y_res,\n",
        "        verbose=True)\n",
        "\n",
        "y_pred = xgb.predict(X_test_feat)\n",
        "\n",
        "print(classification_report(y_test, y_pred))\n",
        "\n",
        "print(\"AUC: {:.4f}\\n\".format(roc_auc_score(y_test, y_pred)))\n",
        "\n",
        "plot_confusion_matrix(xgb, X_test_feat, y_test)\n",
        "\n",
        "plt.show()"
      ],
      "metadata": {
        "id": "8Rn7QdVPHPUB",
        "colab": {
          "base_uri": "https://localhost:8080/",
          "height": 469
        },
        "outputId": "0afebbff-396a-45a6-faa1-07a84b759027"
      },
      "execution_count": null,
      "outputs": [
        {
          "output_type": "stream",
          "name": "stdout",
          "text": [
            "              precision    recall  f1-score   support\n",
            "\n",
            "           0       0.95      0.98      0.96      5075\n",
            "           1       0.86      0.73      0.79       970\n",
            "\n",
            "    accuracy                           0.94      6045\n",
            "   macro avg       0.91      0.85      0.88      6045\n",
            "weighted avg       0.94      0.94      0.94      6045\n",
            "\n",
            "AUC: 0.8540\n",
            "\n"
          ]
        },
        {
          "output_type": "display_data",
          "data": {
            "text/plain": [
              "<Figure size 432x288 with 2 Axes>"
            ],
            "image/png": "[encoded data removed]"
          },
          "metadata": {
            "needs_background": "light"
          }
        }
      ]
    },
    {
      "cell_type": "code",
      "source": [
        "xgb = XGBClassifier(objective='binary:logistic', n_estimators=350, learning_rate=0.3, max_depth=7, min_child_weight=1, gamma=0.1, seed=42, missing=None)\n",
        "\n",
        "param_grid = {\n",
        " 'subsample':[i/100.0 for i in range(60,120,20)],\n",
        " 'colsample_bytree':[i/100.0 for i in range(60,120,20)]\n",
        "}\n",
        "\n",
        "kfold = StratifiedKFold(n_splits=3, shuffle=True)\n",
        "grid_search = GridSearchCV(xgb, param_grid, scoring=\"recall\", n_jobs=-1, cv=kfold)\n",
        "grid_result = grid_search.fit(X_res_feat, y_res)\n",
        "\n",
        "print(\"Melhor: {} para {}\".format(grid_result.best_score_, grid_result.best_params_))"
      ],
      "metadata": {
        "id": "G3aUpVdRJS4S",
        "colab": {
          "base_uri": "https://localhost:8080/"
        },
        "outputId": "b16d7530-7951-4b33-d506-250339158057"
      },
      "execution_count": null,
      "outputs": [
        {
          "output_type": "stream",
          "name": "stdout",
          "text": [
            "Melhor: 0.9516207568169172 para {'colsample_bytree': 0.6, 'subsample': 1.0}\n"
          ]
        }
      ]
    },
    {
      "cell_type": "code",
      "source": [
        "xgb = XGBClassifier(objective='binary:logistic', n_estimators=350, learning_rate=0.3, max_depth=7, min_child_weight=1, gamma=0.1, colsample_bytree=0.6, subsample=1, seed=42, missing=None)\n",
        "\n",
        "xgb.fit(X_res_feat,\n",
        "        y_res,\n",
        "        verbose=True)\n",
        "\n",
        "y_pred = xgb.predict(X_test_feat)\n",
        "\n",
        "print(classification_report(y_test, y_pred))\n",
        "\n",
        "print(\"AUC: {:.4f}\\n\".format(roc_auc_score(y_test, y_pred)))\n",
        "\n",
        "plot_confusion_matrix(xgb, X_test_feat, y_test)\n",
        "\n",
        "plt.show()"
      ],
      "metadata": {
        "id": "ARhJYSHiH5oE",
        "colab": {
          "base_uri": "https://localhost:8080/",
          "height": 469
        },
        "outputId": "be85e614-bd92-445f-d957-8c2af4e2e199"
      },
      "execution_count": null,
      "outputs": [
        {
          "output_type": "stream",
          "name": "stdout",
          "text": [
            "              precision    recall  f1-score   support\n",
            "\n",
            "           0       0.95      0.98      0.97      5075\n",
            "           1       0.88      0.74      0.80       970\n",
            "\n",
            "    accuracy                           0.94      6045\n",
            "   macro avg       0.91      0.86      0.88      6045\n",
            "weighted avg       0.94      0.94      0.94      6045\n",
            "\n",
            "AUC: 0.8580\n",
            "\n"
          ]
        },
        {
          "output_type": "display_data",
          "data": {
            "text/plain": [
              "<Figure size 432x288 with 2 Axes>"
            ],
            "image/png": "[encoded data removed]"
          },
          "metadata": {
            "needs_background": "light"
          }
        }
      ]
    },
    {
      "cell_type": "code",
      "source": [
        "xgb = XGBClassifier(objective='binary:logistic', n_estimators=350, learning_rate=0.3, max_depth=7, min_child_weight=1, gamma=0.1, colsample_bytree=0.6, subsample=1, seed=42, missing=None)\n",
        "\n",
        "param_grid = {\n",
        "    \"reg_lambda\": [i for i in range(1,10,2)]\n",
        "}\n",
        "\n",
        "kfold = StratifiedKFold(n_splits=3, shuffle=True)\n",
        "grid_search = GridSearchCV(xgb, param_grid, scoring=\"recall\", n_jobs=-1, cv=kfold)\n",
        "grid_result = grid_search.fit(X_res_feat, y_res)\n",
        "\n",
        "print(\"Melhor: {} para {}\".format(grid_result.best_score_, grid_result.best_params_))"
      ],
      "metadata": {
        "id": "yol9b43eYq5u",
        "colab": {
          "base_uri": "https://localhost:8080/"
        },
        "outputId": "cb85c2ab-9186-436c-c63b-53166e865f1c"
      },
      "execution_count": null,
      "outputs": [
        {
          "output_type": "stream",
          "name": "stdout",
          "text": [
            "Melhor: 0.9506816917084029 para {'reg_lambda': 3}\n"
          ]
        }
      ]
    },
    {
      "cell_type": "code",
      "source": [
        "xgb = XGBClassifier(objective='binary:logistic', n_estimators=350, learning_rate=0.3, max_depth=7, min_child_weight=1, gamma=0.1, colsample_bytree=0.6, subsample=1, reg_lambda=3, seed=42, missing=None)\n",
        "\n",
        "xgb.fit(X_res_feat,\n",
        "        y_res,\n",
        "        verbose=True)\n",
        "\n",
        "y_pred = xgb.predict(X_test_feat)\n",
        "\n",
        "print(classification_report(y_test, y_pred))\n",
        "\n",
        "print(\"AUC: {:.4f}\\n\".format(roc_auc_score(y_test, y_pred)))\n",
        "\n",
        "plot_confusion_matrix(xgb, X_test_feat, y_test)\n",
        "\n",
        "plt.show()"
      ],
      "metadata": {
        "colab": {
          "base_uri": "https://localhost:8080/",
          "height": 469
        },
        "outputId": "999c3b71-f286-46f6-bb10-1e35c19ac9e5",
        "id": "ty2qviw1byJ2"
      },
      "execution_count": null,
      "outputs": [
        {
          "output_type": "stream",
          "name": "stdout",
          "text": [
            "              precision    recall  f1-score   support\n",
            "\n",
            "           0       0.95      0.98      0.97      5075\n",
            "           1       0.88      0.74      0.80       970\n",
            "\n",
            "    accuracy                           0.94      6045\n",
            "   macro avg       0.92      0.86      0.88      6045\n",
            "weighted avg       0.94      0.94      0.94      6045\n",
            "\n",
            "AUC: 0.8589\n",
            "\n"
          ]
        },
        {
          "output_type": "display_data",
          "data": {
            "text/plain": [
              "<Figure size 432x288 with 2 Axes>"
            ],
            "image/png": "[encoded data removed]"
          },
          "metadata": {
            "needs_background": "light"
          }
        }
      ]
    },
    {
      "cell_type": "markdown",
      "source": [
        "## **CONCLUSÃO**\n",
        "\n",
        "* Após a otimização dos hiperparâmetros, o modelo gerou resultados bastante satisfatórios:\n",
        "\n",
        "**Classificação - 0/Sem Default:**\n",
        "\n",
        "* **Precision:** 95%\n",
        "* **Recall:** 98%\n",
        "\n",
        "**Classificações - 1/Default:**\n",
        "\n",
        "* **Precision:** 88%\n",
        "* **Recall:** 74%\n",
        "\n",
        "**Avaliações gerais do modelo:**\n",
        "\n",
        "* **AUC:** 86%\n",
        "* **Accuracy:** 94% \n",
        "\n",
        "\n"
      ],
      "metadata": {
        "id": "Pk3hqlfHaYna"
      }
    }
  ]
}